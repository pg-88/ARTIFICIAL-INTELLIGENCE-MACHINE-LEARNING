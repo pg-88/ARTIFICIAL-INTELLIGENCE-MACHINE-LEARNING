{
 "cells": [
  {
   "cell_type": "markdown",
   "id": "d0d4a2ef",
   "metadata": {},
   "source": [
    "### Package Imports"
   ]
  },
  {
   "cell_type": "code",
   "execution_count": 1,
   "id": "dbd96293",
   "metadata": {},
   "outputs": [],
   "source": [
    "import numpy as np"
   ]
  },
  {
   "cell_type": "markdown",
   "id": "3a5e9bd3",
   "metadata": {},
   "source": [
    "# Array Basics\n",
    "\n",
    "## List != Array\n",
    "\n",
    "Lists are objects in Python that can contain any type of data, whereas an array is also an object that represents a sequence of elements that are homogeneous in type and of predefined size."
   ]
  },
  {
   "cell_type": "code",
   "execution_count": 2,
   "id": "6d3f8d99",
   "metadata": {},
   "outputs": [
    {
     "data": {
      "text/plain": [
       "[10,\n",
       " 20,\n",
       " 30,\n",
       " 40,\n",
       " 50,\n",
       " 60,\n",
       " 70,\n",
       " 80,\n",
       " 90,\n",
       " 100,\n",
       " 10,\n",
       " 20,\n",
       " 30,\n",
       " 40,\n",
       " 50,\n",
       " 60,\n",
       " 70,\n",
       " 80,\n",
       " 90,\n",
       " 100]"
      ]
     },
     "execution_count": 2,
     "metadata": {},
     "output_type": "execute_result"
    }
   ],
   "source": [
    "my_list1 = [x * 10 for x in range(1, 11)]\n",
    "\n",
    "# a = [i for i in range(2, 103, 2)]\n",
    "\n",
    "for x in range(1, 11):\n",
    "    my_list1.append(x * 10)\n",
    "\n",
    "my_list1"
   ]
  },
  {
   "cell_type": "markdown",
   "id": "8700d03c",
   "metadata": {},
   "source": [
    "## From List to Array \n",
    "\n",
    "\n",
    "    my_list = [\"a\", \"e\", \"i\", \"o\", \"u\"]\n",
    "    my_array = np.array(my_list)\n",
    "\n",
    "## **TO DO**:\n",
    "\n",
    "**Create a list that contains the numbers of the 3 times table and then convert it into an array.**\n",
    "\n",
    "*Note*: Use list comprehensions to create the Python list, it's a more compact syntax and the interpreter prefers it too!\n",
    "\n",
    "```python\n",
    "new_list = [ `operation to apply to each element` for `element in loop` in range(`start`, `stop`, `step`)]\n"
   ]
  },
  {
   "cell_type": "code",
   "execution_count": 19,
   "id": "22aa8a50",
   "metadata": {},
   "outputs": [
    {
     "data": {
      "text/plain": [
       "(array([ 3,  6,  9, 12, 15, 18, 21, 24, 27, 30]),\n",
       " [3, 6, 9, 12, 15, 18, 21, 24, 27, 30])"
      ]
     },
     "execution_count": 19,
     "metadata": {},
     "output_type": "execute_result"
    }
   ],
   "source": [
    "# create the list\n",
    "# tab_three = list()\n",
    "tab_three = []\n",
    "# one_sol = [3 * i for i in range(1, 11)]\n",
    "# oneother_sol = [ i for i in range(0, 31, 3)]\n",
    "\n",
    "for i in range(1, 11): \n",
    "    tab_three.append(i * 3)\n",
    "\n",
    "#create array from the list\n",
    "arr_three = np.array(tab_three)\n",
    "arr_three, tab_three\n"
   ]
  },
  {
   "cell_type": "markdown",
   "id": "b496b6c0",
   "metadata": {},
   "source": [
    "### What has changed\n",
    "\n",
    "The fundamental difference between Lists and Numpy Arrays is the data type of the elements they hold.\n",
    "\n",
    "- A list can contain any type of data without enforcing homogeneity among its elements.\n",
    "- An array contains only one data type.\n"
   ]
  },
  {
   "cell_type": "code",
   "execution_count": 22,
   "id": "ad4c16cb",
   "metadata": {},
   "outputs": [
    {
     "data": {
      "text/plain": [
       "array(['2', 'hello', 'world', '42'], dtype='<U21')"
      ]
     },
     "execution_count": 22,
     "metadata": {},
     "output_type": "execute_result"
    }
   ],
   "source": [
    "valid_list = [2, \"hello\", \"world\", 42]\n",
    "valid_list\n",
    "\n",
    "np.array(valid_list)"
   ]
  },
  {
   "cell_type": "markdown",
   "id": "68e700ce",
   "metadata": {},
   "source": [
    "## A Limitation or a Feature?\n",
    "\n",
    "The fact that the array behaves this way may seem like a limitation, but the reality is that Python aims to make life easier for the programmer, often at the expense of performance, making certain types of operations harder (for the machine) to execute.\n",
    "\n",
    "We should think of an array as a sequence of identical elements lined up one after another, whereas a list is a hodgepodge of scattered elements. Some elements can be very large, others very small, and we can locate them only because each element tells us where to find the next one—it's almost like a treasure hunt!\n"
   ]
  },
  {
   "cell_type": "markdown",
   "id": "661c280b",
   "metadata": {},
   "source": [
    "<img src=\"arrayVSlists.jpg\">"
   ]
  },
  {
   "cell_type": "markdown",
   "id": "997be626",
   "metadata": {},
   "source": [
    "## Numbers, But What Kind?\n",
    "\n",
    "Data types in Numpy are primarily designed to handle and manipulate numbers of various sizes.  \n",
    "The NumPy Documentation can help us better understand the available data types and how to use them:\n",
    "- [Data Types](https://numpy.org/doc/stable/user/basics.types.html)\n",
    "\n",
    "Having all data of the same type allows for better memory management and leads to significant performance benefits, especially when working with large datasets.\n"
   ]
  },
  {
   "cell_type": "code",
   "execution_count": 23,
   "id": "ccbb22c4",
   "metadata": {},
   "outputs": [
    {
     "data": {
      "text/plain": [
       "array(['a', 'e', 'i', 'o', 'u'], dtype='<U1')"
      ]
     },
     "execution_count": 23,
     "metadata": {},
     "output_type": "execute_result"
    }
   ],
   "source": [
    "np.array([\"a\", \"e\", \"i\", \"o\", \"u\"])"
   ]
  },
  {
   "cell_type": "code",
   "execution_count": 28,
   "id": "79acf2ea",
   "metadata": {},
   "outputs": [
    {
     "data": {
      "text/plain": [
       "array([2, 3, 4, 5, 6], dtype=uint64)"
      ]
     },
     "execution_count": 28,
     "metadata": {},
     "output_type": "execute_result"
    }
   ],
   "source": [
    "my_list = [\"helloW\", \"world\", \"a\", \"b\"]\n",
    "\n",
    "\n",
    "my_array1 = np.array(my_list)\n",
    "my_array2 = np.array([2,3,4,5,6], dtype='u8')\n",
    "my_array2"
   ]
  },
  {
   "cell_type": "markdown",
   "id": "bb2d0997",
   "metadata": {},
   "source": [
    "**dtype** allow us to understand the data type of the array"
   ]
  },
  {
   "cell_type": "code",
   "execution_count": 30,
   "id": "0aa48f22",
   "metadata": {},
   "outputs": [
    {
     "data": {
      "text/plain": [
       "(dtype('<U6'), dtype('uint64'))"
      ]
     },
     "execution_count": 30,
     "metadata": {},
     "output_type": "execute_result"
    }
   ],
   "source": [
    "my_array1.dtype, my_array2.dtype"
   ]
  },
  {
   "cell_type": "code",
   "execution_count": 54,
   "id": "2b1a7bd2",
   "metadata": {},
   "outputs": [
    {
     "data": {
      "text/plain": [
       "(array([ 1,  3,  5,  7,  9, 11, 13], dtype=uint8), dtype('uint8'))"
      ]
     },
     "execution_count": 54,
     "metadata": {},
     "output_type": "execute_result"
    }
   ],
   "source": [
    "# what happend with numbers as a string?\n",
    "[\"1\",\"3\",\"5\",\"7\",\"9\",\"11\",\"13\"]\n",
    "\n",
    "new_arr = np.array([\"1\",\"3\",\"5\",\"7\",\"9\",\"11\",\"13\"])\n",
    "num_arr = new_arr.astype('u1')\n",
    "num_arr, num_arr.dtype"
   ]
  },
  {
   "cell_type": "markdown",
   "id": "6ec2be9c",
   "metadata": {},
   "source": [
    "with **astype()** we can change (or try to) the data type of the elements in the array "
   ]
  },
  {
   "cell_type": "markdown",
   "id": "58bcaea2",
   "metadata": {},
   "source": [
    "## Operations\n",
    "\n",
    "Another major difference is that arrays can be treated as a block of numbers and used directly for mathematical operations.\n",
    "\n",
    "## **TO DO**:\n",
    "Multiply all values in the **list** a number. *To do this on a list, a loop is required.*\n",
    "1. create a list of number from 1 to 100 \n",
    "2. using a loop calculate the product of each number of the list and a factor"
   ]
  },
  {
   "cell_type": "code",
   "execution_count": 43,
   "id": "97c51439",
   "metadata": {},
   "outputs": [
    {
     "data": {
      "text/plain": [
       "[4,\n",
       " 8,\n",
       " 12,\n",
       " 16,\n",
       " 20,\n",
       " 24,\n",
       " 28,\n",
       " 32,\n",
       " 36,\n",
       " 40,\n",
       " 44,\n",
       " 48,\n",
       " 52,\n",
       " 56,\n",
       " 60,\n",
       " 64,\n",
       " 68,\n",
       " 72,\n",
       " 76,\n",
       " 80,\n",
       " 84,\n",
       " 88,\n",
       " 92,\n",
       " 96,\n",
       " 100,\n",
       " 104,\n",
       " 108,\n",
       " 112,\n",
       " 116,\n",
       " 120,\n",
       " 124,\n",
       " 128,\n",
       " 132,\n",
       " 136,\n",
       " 140,\n",
       " 144,\n",
       " 148,\n",
       " 152,\n",
       " 156,\n",
       " 160,\n",
       " 164,\n",
       " 168,\n",
       " 172,\n",
       " 176,\n",
       " 180,\n",
       " 184,\n",
       " 188,\n",
       " 192,\n",
       " 196,\n",
       " 200,\n",
       " 204,\n",
       " 208,\n",
       " 212,\n",
       " 216,\n",
       " 220,\n",
       " 224,\n",
       " 228,\n",
       " 232,\n",
       " 236,\n",
       " 240,\n",
       " 244,\n",
       " 248,\n",
       " 252,\n",
       " 256,\n",
       " 260,\n",
       " 264,\n",
       " 268,\n",
       " 272,\n",
       " 276,\n",
       " 280,\n",
       " 284,\n",
       " 288,\n",
       " 292,\n",
       " 296,\n",
       " 300,\n",
       " 304,\n",
       " 308,\n",
       " 312,\n",
       " 316,\n",
       " 320,\n",
       " 324,\n",
       " 328,\n",
       " 332,\n",
       " 336,\n",
       " 340,\n",
       " 344,\n",
       " 348,\n",
       " 352,\n",
       " 356,\n",
       " 360,\n",
       " 364,\n",
       " 368,\n",
       " 372,\n",
       " 376,\n",
       " 380,\n",
       " 384,\n",
       " 388,\n",
       " 392,\n",
       " 396,\n",
       " 400]"
      ]
     },
     "execution_count": 43,
     "metadata": {},
     "output_type": "execute_result"
    }
   ],
   "source": [
    "num_list = [i for i in range(1, 101)]\n",
    "factor = 4 \n",
    "num_list\n",
    "[n * factor for n in num_list]\n"
   ]
  },
  {
   "cell_type": "markdown",
   "id": "b66f9a19",
   "metadata": {},
   "source": [
    "Now using array:\n",
    "\n",
    "1. create the array startin from the list \n",
    "2. use the * between the array and the factor\n"
   ]
  },
  {
   "cell_type": "code",
   "execution_count": 49,
   "id": "e07d3459",
   "metadata": {},
   "outputs": [
    {
     "data": {
      "text/plain": [
       "array([ 0.25,  0.5 ,  0.75,  1.  ,  1.25,  1.5 ,  1.75,  2.  ,  2.25,\n",
       "        2.5 ,  2.75,  3.  ,  3.25,  3.5 ,  3.75,  4.  ,  4.25,  4.5 ,\n",
       "        4.75,  5.  ,  5.25,  5.5 ,  5.75,  6.  ,  6.25,  6.5 ,  6.75,\n",
       "        7.  ,  7.25,  7.5 ,  7.75,  8.  ,  8.25,  8.5 ,  8.75,  9.  ,\n",
       "        9.25,  9.5 ,  9.75, 10.  , 10.25, 10.5 , 10.75, 11.  , 11.25,\n",
       "       11.5 , 11.75, 12.  , 12.25, 12.5 , 12.75, 13.  , 13.25, 13.5 ,\n",
       "       13.75, 14.  , 14.25, 14.5 , 14.75, 15.  , 15.25, 15.5 , 15.75,\n",
       "       16.  , 16.25, 16.5 , 16.75, 17.  , 17.25, 17.5 , 17.75, 18.  ,\n",
       "       18.25, 18.5 , 18.75, 19.  , 19.25, 19.5 , 19.75, 20.  , 20.25,\n",
       "       20.5 , 20.75, 21.  , 21.25, 21.5 , 21.75, 22.  , 22.25, 22.5 ,\n",
       "       22.75, 23.  , 23.25, 23.5 , 23.75, 24.  , 24.25, 24.5 , 24.75,\n",
       "       25.  ])"
      ]
     },
     "execution_count": 49,
     "metadata": {},
     "output_type": "execute_result"
    }
   ],
   "source": [
    "starting = np.array([i for i in range(1, 101)])\n",
    "\n",
    "starting * factor\n",
    "\n",
    "starting + factor\n",
    "\n",
    "starting / factor\n"
   ]
  },
  {
   "cell_type": "markdown",
   "id": "1b457637",
   "metadata": {},
   "source": [
    "### Why we use array \n",
    "\n",
    "One answer could be the ability to handle large chunck of data very fast. Let see how fast."
   ]
  },
  {
   "cell_type": "code",
   "execution_count": 50,
   "id": "728f7b29",
   "metadata": {},
   "outputs": [
    {
     "data": {
      "text/plain": [
       "([0,\n",
       "  1,\n",
       "  2,\n",
       "  3,\n",
       "  4,\n",
       "  5,\n",
       "  6,\n",
       "  7,\n",
       "  8,\n",
       "  9,\n",
       "  10,\n",
       "  11,\n",
       "  12,\n",
       "  13,\n",
       "  14,\n",
       "  15,\n",
       "  16,\n",
       "  17,\n",
       "  18,\n",
       "  19,\n",
       "  20,\n",
       "  21,\n",
       "  22,\n",
       "  23,\n",
       "  24,\n",
       "  25,\n",
       "  26,\n",
       "  27,\n",
       "  28,\n",
       "  29,\n",
       "  30,\n",
       "  31,\n",
       "  32,\n",
       "  33,\n",
       "  34,\n",
       "  35,\n",
       "  36,\n",
       "  37,\n",
       "  38,\n",
       "  39,\n",
       "  40,\n",
       "  41,\n",
       "  42,\n",
       "  43,\n",
       "  44,\n",
       "  45,\n",
       "  46,\n",
       "  47,\n",
       "  48,\n",
       "  49,\n",
       "  50,\n",
       "  51,\n",
       "  52,\n",
       "  53,\n",
       "  54,\n",
       "  55,\n",
       "  56,\n",
       "  57,\n",
       "  58,\n",
       "  59,\n",
       "  60,\n",
       "  61,\n",
       "  62,\n",
       "  63,\n",
       "  64,\n",
       "  65,\n",
       "  66,\n",
       "  67,\n",
       "  68,\n",
       "  69,\n",
       "  70,\n",
       "  71,\n",
       "  72,\n",
       "  73,\n",
       "  74,\n",
       "  75,\n",
       "  76,\n",
       "  77,\n",
       "  78,\n",
       "  79,\n",
       "  80,\n",
       "  81,\n",
       "  82,\n",
       "  83,\n",
       "  84,\n",
       "  85,\n",
       "  86,\n",
       "  87,\n",
       "  88,\n",
       "  89,\n",
       "  90,\n",
       "  91,\n",
       "  92,\n",
       "  93,\n",
       "  94,\n",
       "  95,\n",
       "  96,\n",
       "  97,\n",
       "  98,\n",
       "  99,\n",
       "  100,\n",
       "  101,\n",
       "  102,\n",
       "  103,\n",
       "  104,\n",
       "  105,\n",
       "  106,\n",
       "  107,\n",
       "  108,\n",
       "  109,\n",
       "  110,\n",
       "  111,\n",
       "  112,\n",
       "  113,\n",
       "  114,\n",
       "  115,\n",
       "  116,\n",
       "  117,\n",
       "  118,\n",
       "  119,\n",
       "  120,\n",
       "  121,\n",
       "  122,\n",
       "  123,\n",
       "  124,\n",
       "  125,\n",
       "  126,\n",
       "  127,\n",
       "  128,\n",
       "  129,\n",
       "  130,\n",
       "  131,\n",
       "  132,\n",
       "  133,\n",
       "  134,\n",
       "  135,\n",
       "  136,\n",
       "  137,\n",
       "  138,\n",
       "  139,\n",
       "  140,\n",
       "  141,\n",
       "  142,\n",
       "  143,\n",
       "  144,\n",
       "  145,\n",
       "  146,\n",
       "  147,\n",
       "  148,\n",
       "  149,\n",
       "  150,\n",
       "  151,\n",
       "  152,\n",
       "  153,\n",
       "  154,\n",
       "  155,\n",
       "  156,\n",
       "  157,\n",
       "  158,\n",
       "  159,\n",
       "  160,\n",
       "  161,\n",
       "  162,\n",
       "  163,\n",
       "  164,\n",
       "  165,\n",
       "  166,\n",
       "  167,\n",
       "  168,\n",
       "  169,\n",
       "  170,\n",
       "  171,\n",
       "  172,\n",
       "  173,\n",
       "  174,\n",
       "  175,\n",
       "  176,\n",
       "  177,\n",
       "  178,\n",
       "  179,\n",
       "  180,\n",
       "  181,\n",
       "  182,\n",
       "  183,\n",
       "  184,\n",
       "  185,\n",
       "  186,\n",
       "  187,\n",
       "  188,\n",
       "  189,\n",
       "  190,\n",
       "  191,\n",
       "  192,\n",
       "  193,\n",
       "  194,\n",
       "  195,\n",
       "  196,\n",
       "  197,\n",
       "  198,\n",
       "  199,\n",
       "  200,\n",
       "  201,\n",
       "  202,\n",
       "  203,\n",
       "  204,\n",
       "  205,\n",
       "  206,\n",
       "  207,\n",
       "  208,\n",
       "  209,\n",
       "  210,\n",
       "  211,\n",
       "  212,\n",
       "  213,\n",
       "  214,\n",
       "  215,\n",
       "  216,\n",
       "  217,\n",
       "  218,\n",
       "  219,\n",
       "  220,\n",
       "  221,\n",
       "  222,\n",
       "  223,\n",
       "  224,\n",
       "  225,\n",
       "  226,\n",
       "  227,\n",
       "  228,\n",
       "  229,\n",
       "  230,\n",
       "  231,\n",
       "  232,\n",
       "  233,\n",
       "  234,\n",
       "  235,\n",
       "  236,\n",
       "  237,\n",
       "  238,\n",
       "  239,\n",
       "  240,\n",
       "  241,\n",
       "  242,\n",
       "  243,\n",
       "  244,\n",
       "  245,\n",
       "  246,\n",
       "  247,\n",
       "  248,\n",
       "  249,\n",
       "  250,\n",
       "  251,\n",
       "  252,\n",
       "  253,\n",
       "  254,\n",
       "  255,\n",
       "  256,\n",
       "  257,\n",
       "  258,\n",
       "  259,\n",
       "  260,\n",
       "  261,\n",
       "  262,\n",
       "  263,\n",
       "  264,\n",
       "  265,\n",
       "  266,\n",
       "  267,\n",
       "  268,\n",
       "  269,\n",
       "  270,\n",
       "  271,\n",
       "  272,\n",
       "  273,\n",
       "  274,\n",
       "  275,\n",
       "  276,\n",
       "  277,\n",
       "  278,\n",
       "  279,\n",
       "  280,\n",
       "  281,\n",
       "  282,\n",
       "  283,\n",
       "  284,\n",
       "  285,\n",
       "  286,\n",
       "  287,\n",
       "  288,\n",
       "  289,\n",
       "  290,\n",
       "  291,\n",
       "  292,\n",
       "  293,\n",
       "  294,\n",
       "  295,\n",
       "  296,\n",
       "  297,\n",
       "  298,\n",
       "  299,\n",
       "  300,\n",
       "  301,\n",
       "  302,\n",
       "  303,\n",
       "  304,\n",
       "  305,\n",
       "  306,\n",
       "  307,\n",
       "  308,\n",
       "  309,\n",
       "  310,\n",
       "  311,\n",
       "  312,\n",
       "  313,\n",
       "  314,\n",
       "  315,\n",
       "  316,\n",
       "  317,\n",
       "  318,\n",
       "  319,\n",
       "  320,\n",
       "  321,\n",
       "  322,\n",
       "  323,\n",
       "  324,\n",
       "  325,\n",
       "  326,\n",
       "  327,\n",
       "  328,\n",
       "  329,\n",
       "  330,\n",
       "  331,\n",
       "  332,\n",
       "  333,\n",
       "  334,\n",
       "  335,\n",
       "  336,\n",
       "  337,\n",
       "  338,\n",
       "  339,\n",
       "  340,\n",
       "  341,\n",
       "  342,\n",
       "  343,\n",
       "  344,\n",
       "  345,\n",
       "  346,\n",
       "  347,\n",
       "  348,\n",
       "  349,\n",
       "  350,\n",
       "  351,\n",
       "  352,\n",
       "  353,\n",
       "  354,\n",
       "  355,\n",
       "  356,\n",
       "  357,\n",
       "  358,\n",
       "  359,\n",
       "  360,\n",
       "  361,\n",
       "  362,\n",
       "  363,\n",
       "  364,\n",
       "  365,\n",
       "  366,\n",
       "  367,\n",
       "  368,\n",
       "  369,\n",
       "  370,\n",
       "  371,\n",
       "  372,\n",
       "  373,\n",
       "  374,\n",
       "  375,\n",
       "  376,\n",
       "  377,\n",
       "  378,\n",
       "  379,\n",
       "  380,\n",
       "  381,\n",
       "  382,\n",
       "  383,\n",
       "  384,\n",
       "  385,\n",
       "  386,\n",
       "  387,\n",
       "  388,\n",
       "  389,\n",
       "  390,\n",
       "  391,\n",
       "  392,\n",
       "  393,\n",
       "  394,\n",
       "  395,\n",
       "  396,\n",
       "  397,\n",
       "  398,\n",
       "  399,\n",
       "  400,\n",
       "  401,\n",
       "  402,\n",
       "  403,\n",
       "  404,\n",
       "  405,\n",
       "  406,\n",
       "  407,\n",
       "  408,\n",
       "  409,\n",
       "  410,\n",
       "  411,\n",
       "  412,\n",
       "  413,\n",
       "  414,\n",
       "  415,\n",
       "  416,\n",
       "  417,\n",
       "  418,\n",
       "  419,\n",
       "  420,\n",
       "  421,\n",
       "  422,\n",
       "  423,\n",
       "  424,\n",
       "  425,\n",
       "  426,\n",
       "  427,\n",
       "  428,\n",
       "  429,\n",
       "  430,\n",
       "  431,\n",
       "  432,\n",
       "  433,\n",
       "  434,\n",
       "  435,\n",
       "  436,\n",
       "  437,\n",
       "  438,\n",
       "  439,\n",
       "  440,\n",
       "  441,\n",
       "  442,\n",
       "  443,\n",
       "  444,\n",
       "  445,\n",
       "  446,\n",
       "  447,\n",
       "  448,\n",
       "  449,\n",
       "  450,\n",
       "  451,\n",
       "  452,\n",
       "  453,\n",
       "  454,\n",
       "  455,\n",
       "  456,\n",
       "  457,\n",
       "  458,\n",
       "  459,\n",
       "  460,\n",
       "  461,\n",
       "  462,\n",
       "  463,\n",
       "  464,\n",
       "  465,\n",
       "  466,\n",
       "  467,\n",
       "  468,\n",
       "  469,\n",
       "  470,\n",
       "  471,\n",
       "  472,\n",
       "  473,\n",
       "  474,\n",
       "  475,\n",
       "  476,\n",
       "  477,\n",
       "  478,\n",
       "  479,\n",
       "  480,\n",
       "  481,\n",
       "  482,\n",
       "  483,\n",
       "  484,\n",
       "  485,\n",
       "  486,\n",
       "  487,\n",
       "  488,\n",
       "  489,\n",
       "  490,\n",
       "  491,\n",
       "  492,\n",
       "  493,\n",
       "  494,\n",
       "  495,\n",
       "  496,\n",
       "  497,\n",
       "  498,\n",
       "  499,\n",
       "  500,\n",
       "  501,\n",
       "  502,\n",
       "  503,\n",
       "  504,\n",
       "  505,\n",
       "  506,\n",
       "  507,\n",
       "  508,\n",
       "  509,\n",
       "  510,\n",
       "  511,\n",
       "  512,\n",
       "  513,\n",
       "  514,\n",
       "  515,\n",
       "  516,\n",
       "  517,\n",
       "  518,\n",
       "  519,\n",
       "  520,\n",
       "  521,\n",
       "  522,\n",
       "  523,\n",
       "  524,\n",
       "  525,\n",
       "  526,\n",
       "  527,\n",
       "  528,\n",
       "  529,\n",
       "  530,\n",
       "  531,\n",
       "  532,\n",
       "  533,\n",
       "  534,\n",
       "  535,\n",
       "  536,\n",
       "  537,\n",
       "  538,\n",
       "  539,\n",
       "  540,\n",
       "  541,\n",
       "  542,\n",
       "  543,\n",
       "  544,\n",
       "  545,\n",
       "  546,\n",
       "  547,\n",
       "  548,\n",
       "  549,\n",
       "  550,\n",
       "  551,\n",
       "  552,\n",
       "  553,\n",
       "  554,\n",
       "  555,\n",
       "  556,\n",
       "  557,\n",
       "  558,\n",
       "  559,\n",
       "  560,\n",
       "  561,\n",
       "  562,\n",
       "  563,\n",
       "  564,\n",
       "  565,\n",
       "  566,\n",
       "  567,\n",
       "  568,\n",
       "  569,\n",
       "  570,\n",
       "  571,\n",
       "  572,\n",
       "  573,\n",
       "  574,\n",
       "  575,\n",
       "  576,\n",
       "  577,\n",
       "  578,\n",
       "  579,\n",
       "  580,\n",
       "  581,\n",
       "  582,\n",
       "  583,\n",
       "  584,\n",
       "  585,\n",
       "  586,\n",
       "  587,\n",
       "  588,\n",
       "  589,\n",
       "  590,\n",
       "  591,\n",
       "  592,\n",
       "  593,\n",
       "  594,\n",
       "  595,\n",
       "  596,\n",
       "  597,\n",
       "  598,\n",
       "  599,\n",
       "  600,\n",
       "  601,\n",
       "  602,\n",
       "  603,\n",
       "  604,\n",
       "  605,\n",
       "  606,\n",
       "  607,\n",
       "  608,\n",
       "  609,\n",
       "  610,\n",
       "  611,\n",
       "  612,\n",
       "  613,\n",
       "  614,\n",
       "  615,\n",
       "  616,\n",
       "  617,\n",
       "  618,\n",
       "  619,\n",
       "  620,\n",
       "  621,\n",
       "  622,\n",
       "  623,\n",
       "  624,\n",
       "  625,\n",
       "  626,\n",
       "  627,\n",
       "  628,\n",
       "  629,\n",
       "  630,\n",
       "  631,\n",
       "  632,\n",
       "  633,\n",
       "  634,\n",
       "  635,\n",
       "  636,\n",
       "  637,\n",
       "  638,\n",
       "  639,\n",
       "  640,\n",
       "  641,\n",
       "  642,\n",
       "  643,\n",
       "  644,\n",
       "  645,\n",
       "  646,\n",
       "  647,\n",
       "  648,\n",
       "  649,\n",
       "  650,\n",
       "  651,\n",
       "  652,\n",
       "  653,\n",
       "  654,\n",
       "  655,\n",
       "  656,\n",
       "  657,\n",
       "  658,\n",
       "  659,\n",
       "  660,\n",
       "  661,\n",
       "  662,\n",
       "  663,\n",
       "  664,\n",
       "  665,\n",
       "  666,\n",
       "  667,\n",
       "  668,\n",
       "  669,\n",
       "  670,\n",
       "  671,\n",
       "  672,\n",
       "  673,\n",
       "  674,\n",
       "  675,\n",
       "  676,\n",
       "  677,\n",
       "  678,\n",
       "  679,\n",
       "  680,\n",
       "  681,\n",
       "  682,\n",
       "  683,\n",
       "  684,\n",
       "  685,\n",
       "  686,\n",
       "  687,\n",
       "  688,\n",
       "  689,\n",
       "  690,\n",
       "  691,\n",
       "  692,\n",
       "  693,\n",
       "  694,\n",
       "  695,\n",
       "  696,\n",
       "  697,\n",
       "  698,\n",
       "  699,\n",
       "  700,\n",
       "  701,\n",
       "  702,\n",
       "  703,\n",
       "  704,\n",
       "  705,\n",
       "  706,\n",
       "  707,\n",
       "  708,\n",
       "  709,\n",
       "  710,\n",
       "  711,\n",
       "  712,\n",
       "  713,\n",
       "  714,\n",
       "  715,\n",
       "  716,\n",
       "  717,\n",
       "  718,\n",
       "  719,\n",
       "  720,\n",
       "  721,\n",
       "  722,\n",
       "  723,\n",
       "  724,\n",
       "  725,\n",
       "  726,\n",
       "  727,\n",
       "  728,\n",
       "  729,\n",
       "  730,\n",
       "  731,\n",
       "  732,\n",
       "  733,\n",
       "  734,\n",
       "  735,\n",
       "  736,\n",
       "  737,\n",
       "  738,\n",
       "  739,\n",
       "  740,\n",
       "  741,\n",
       "  742,\n",
       "  743,\n",
       "  744,\n",
       "  745,\n",
       "  746,\n",
       "  747,\n",
       "  748,\n",
       "  749,\n",
       "  750,\n",
       "  751,\n",
       "  752,\n",
       "  753,\n",
       "  754,\n",
       "  755,\n",
       "  756,\n",
       "  757,\n",
       "  758,\n",
       "  759,\n",
       "  760,\n",
       "  761,\n",
       "  762,\n",
       "  763,\n",
       "  764,\n",
       "  765,\n",
       "  766,\n",
       "  767,\n",
       "  768,\n",
       "  769,\n",
       "  770,\n",
       "  771,\n",
       "  772,\n",
       "  773,\n",
       "  774,\n",
       "  775,\n",
       "  776,\n",
       "  777,\n",
       "  778,\n",
       "  779,\n",
       "  780,\n",
       "  781,\n",
       "  782,\n",
       "  783,\n",
       "  784,\n",
       "  785,\n",
       "  786,\n",
       "  787,\n",
       "  788,\n",
       "  789,\n",
       "  790,\n",
       "  791,\n",
       "  792,\n",
       "  793,\n",
       "  794,\n",
       "  795,\n",
       "  796,\n",
       "  797,\n",
       "  798,\n",
       "  799,\n",
       "  800,\n",
       "  801,\n",
       "  802,\n",
       "  803,\n",
       "  804,\n",
       "  805,\n",
       "  806,\n",
       "  807,\n",
       "  808,\n",
       "  809,\n",
       "  810,\n",
       "  811,\n",
       "  812,\n",
       "  813,\n",
       "  814,\n",
       "  815,\n",
       "  816,\n",
       "  817,\n",
       "  818,\n",
       "  819,\n",
       "  820,\n",
       "  821,\n",
       "  822,\n",
       "  823,\n",
       "  824,\n",
       "  825,\n",
       "  826,\n",
       "  827,\n",
       "  828,\n",
       "  829,\n",
       "  830,\n",
       "  831,\n",
       "  832,\n",
       "  833,\n",
       "  834,\n",
       "  835,\n",
       "  836,\n",
       "  837,\n",
       "  838,\n",
       "  839,\n",
       "  840,\n",
       "  841,\n",
       "  842,\n",
       "  843,\n",
       "  844,\n",
       "  845,\n",
       "  846,\n",
       "  847,\n",
       "  848,\n",
       "  849,\n",
       "  850,\n",
       "  851,\n",
       "  852,\n",
       "  853,\n",
       "  854,\n",
       "  855,\n",
       "  856,\n",
       "  857,\n",
       "  858,\n",
       "  859,\n",
       "  860,\n",
       "  861,\n",
       "  862,\n",
       "  863,\n",
       "  864,\n",
       "  865,\n",
       "  866,\n",
       "  867,\n",
       "  868,\n",
       "  869,\n",
       "  870,\n",
       "  871,\n",
       "  872,\n",
       "  873,\n",
       "  874,\n",
       "  875,\n",
       "  876,\n",
       "  877,\n",
       "  878,\n",
       "  879,\n",
       "  880,\n",
       "  881,\n",
       "  882,\n",
       "  883,\n",
       "  884,\n",
       "  885,\n",
       "  886,\n",
       "  887,\n",
       "  888,\n",
       "  889,\n",
       "  890,\n",
       "  891,\n",
       "  892,\n",
       "  893,\n",
       "  894,\n",
       "  895,\n",
       "  896,\n",
       "  897,\n",
       "  898,\n",
       "  899,\n",
       "  900,\n",
       "  901,\n",
       "  902,\n",
       "  903,\n",
       "  904,\n",
       "  905,\n",
       "  906,\n",
       "  907,\n",
       "  908,\n",
       "  909,\n",
       "  910,\n",
       "  911,\n",
       "  912,\n",
       "  913,\n",
       "  914,\n",
       "  915,\n",
       "  916,\n",
       "  917,\n",
       "  918,\n",
       "  919,\n",
       "  920,\n",
       "  921,\n",
       "  922,\n",
       "  923,\n",
       "  924,\n",
       "  925,\n",
       "  926,\n",
       "  927,\n",
       "  928,\n",
       "  929,\n",
       "  930,\n",
       "  931,\n",
       "  932,\n",
       "  933,\n",
       "  934,\n",
       "  935,\n",
       "  936,\n",
       "  937,\n",
       "  938,\n",
       "  939,\n",
       "  940,\n",
       "  941,\n",
       "  942,\n",
       "  943,\n",
       "  944,\n",
       "  945,\n",
       "  946,\n",
       "  947,\n",
       "  948,\n",
       "  949,\n",
       "  950,\n",
       "  951,\n",
       "  952,\n",
       "  953,\n",
       "  954,\n",
       "  955,\n",
       "  956,\n",
       "  957,\n",
       "  958,\n",
       "  959,\n",
       "  960,\n",
       "  961,\n",
       "  962,\n",
       "  963,\n",
       "  964,\n",
       "  965,\n",
       "  966,\n",
       "  967,\n",
       "  968,\n",
       "  969,\n",
       "  970,\n",
       "  971,\n",
       "  972,\n",
       "  973,\n",
       "  974,\n",
       "  975,\n",
       "  976,\n",
       "  977,\n",
       "  978,\n",
       "  979,\n",
       "  980,\n",
       "  981,\n",
       "  982,\n",
       "  983,\n",
       "  984,\n",
       "  985,\n",
       "  986,\n",
       "  987,\n",
       "  988,\n",
       "  989,\n",
       "  990,\n",
       "  991,\n",
       "  992,\n",
       "  993,\n",
       "  994,\n",
       "  995,\n",
       "  996,\n",
       "  997,\n",
       "  998,\n",
       "  999,\n",
       "  ...],\n",
       " array([     0,      1,      2, ..., 999997, 999998, 999999]))"
      ]
     },
     "execution_count": 50,
     "metadata": {},
     "output_type": "execute_result"
    }
   ],
   "source": [
    "#Creating 2 object, one list and one array each with a million element inside\n",
    "test_list = list(range(1_000_0000))\n",
    "test_arr = np.arange(1_000_000)\n",
    "test_list, test_arr"
   ]
  },
  {
   "cell_type": "code",
   "execution_count": 51,
   "id": "06bcc538",
   "metadata": {},
   "outputs": [
    {
     "name": "stdout",
     "output_type": "stream",
     "text": [
      "633 ms ± 41.4 ms per loop (mean ± std. dev. of 7 runs, 1 loop each)\n",
      "4.61 ms ± 297 µs per loop (mean ± std. dev. of 7 runs, 100 loops each)\n"
     ]
    }
   ],
   "source": [
    "%timeit operation_on_list = [3 * n for n in test_list] \n",
    "%timeit operation_on_arr = test_arr * 3\n"
   ]
  },
  {
   "cell_type": "markdown",
   "id": "49267821",
   "metadata": {},
   "source": [
    "## [Broadcasting](https://numpy.org/doc/stable/user/basics.broadcasting.html)\n",
    "\n",
    "The operation we performed earlier to multiply an array by an integer can be generalized. In fact, we can think of the integer as a one-dimensional array.\n",
    "\n",
    "This leads us to conclude that, to perform operations on arrays, they do not necessarily need to have the same size and shape.\n"
   ]
  },
  {
   "cell_type": "code",
   "execution_count": 62,
   "id": "7fe796be",
   "metadata": {},
   "outputs": [
    {
     "data": {
      "text/plain": [
       "array([[ 1., 12., 23., 34.],\n",
       "       [41., 52., 63., 74.]])"
      ]
     },
     "execution_count": 62,
     "metadata": {},
     "output_type": "execute_result"
    }
   ],
   "source": [
    "a = np.array([[0.0, 10.0, 20.0, 30.0], [40.0, 50.0, 60.0, 70.0]])\n",
    "b = np.array([1.,2.,3., 4.])\n",
    "b.shape, a.shape \n",
    "a + b"
   ]
  },
  {
   "cell_type": "markdown",
   "id": "1c11d9b9",
   "metadata": {},
   "source": [
    "However, they must still meet certain constraints regarding their form, known as their **shape**.\n",
    "\n",
    "For example, if we want to add or multiply arrays of different sizes, the smaller array needs to be \"broadcasted\" across the larger one. Broadcasting is a technique that NumPy uses to allow operations between arrays of different shapes, under specific conditions. \n",
    "\n",
    "The shape constraints ensure that NumPy knows how to align the elements of each array for operations. Typically, the dimensions must be compatible, which means either they are the same, or one of them is 1 so it can be stretched or repeated across the larger dimension. This flexibility allows for efficient array manipulations and simplifies the code, as we can work directly with arrays of different sizes without needing complex loops or extra transformations.\n"
   ]
  },
  {
   "cell_type": "markdown",
   "id": "652906a4",
   "metadata": {},
   "source": [
    "**Using Broadcast** and the `+` operator, find 2 array that sum together gives us this configuration:\n",
    "\n",
    "| 0      | 1     | 2      | 3     | 4      | 5     |\n",
    "|--------|-------|--------|-------|--------|-------|\n",
    "| 1      | 2     | 3      | 4     | 5      | 6     |\n",
    "| 2      | 3     | 4      | 5     | 6      | 7     |\n",
    "| 3      | 4     | 5      | 6     | 7      | 8     |\n",
    "| 4      | 5     | 6      | 7     | 8      | 9     |\n",
    "| 5      | 6     | 7      | 8     | 9      | 10    |"
   ]
  },
  {
   "cell_type": "code",
   "execution_count": null,
   "id": "3e82b83e",
   "metadata": {},
   "outputs": [],
   "source": [
    "arr1 = np.array() \n",
    "arr2 = np.array()\n",
    "arr1 + arr2 "
   ]
  },
  {
   "cell_type": "markdown",
   "id": "d4eceb7c",
   "metadata": {},
   "source": [
    "## shape\n",
    "\n",
    "The `shape` attribute is used to return the dimensions of an array. The `shape` attribute returns a tuple representing the number of elements along each dimension of the array.  \n",
    "The first number represents the rows, and the second represents the columns.\n",
    "\n",
    "To perform operations between two arrays, the number of columns in the first array must be equal to the number of rows in the second, or they must have the same shape.\n",
    "\n"
   ]
  },
  {
   "cell_type": "code",
   "execution_count": 35,
   "id": "d2e2fae3",
   "metadata": {},
   "outputs": [
    {
     "data": {
      "text/plain": [
       "(1, 4)"
      ]
     },
     "execution_count": 35,
     "metadata": {},
     "output_type": "execute_result"
    }
   ],
   "source": [
    "c = np.array([0., 0.])\n",
    "c.shape\n",
    "b.shape\n",
    "# a + c \n",
    "d = np.array([3.,4.,5.,6.])\n",
    "d.shape\n"
   ]
  },
  {
   "cell_type": "markdown",
   "id": "8bbb3ee2",
   "metadata": {},
   "source": [
    "## The Shape Can Change\n",
    "\n",
    "The `reshape()` method in NumPy is used to change the shape of an array without altering its data. It allows you to resize the array to fit a new specified shape, as long as the total number of elements remains unchanged.\n",
    "\n",
    "Transform the array: `[ 0  1  2  3  4  5  6  7  8  9 10 11]` into an array with 3 rows and 4 columns.\n"
   ]
  },
  {
   "cell_type": "code",
   "execution_count": 68,
   "id": "bdd540c9",
   "metadata": {},
   "outputs": [
    {
     "data": {
      "text/plain": [
       "((3, 4), (12,))"
      ]
     },
     "execution_count": 68,
     "metadata": {},
     "output_type": "execute_result"
    }
   ],
   "source": [
    "# make this row array a 3 row, 4 column array\n",
    "my_array = np.array([ 0 , 1,  2,  3,  4,  5,  6,  7,  8,  9, 10, 11])\n",
    "new_array = my_array.reshape(3, 4)\n",
    "new_array.shape, my_array.shape"
   ]
  },
  {
   "cell_type": "markdown",
   "id": "05778804",
   "metadata": {},
   "source": [
    "# Transposition\n",
    "\n",
    "Sometimes it is necessary to flip arrays, turning rows into columns.\n",
    "\n",
    "This operation is called transposition.\n"
   ]
  },
  {
   "cell_type": "code",
   "execution_count": 70,
   "id": "acd65c1c",
   "metadata": {},
   "outputs": [
    {
     "data": {
      "text/plain": [
       "(array([[ 0,  4,  8],\n",
       "        [ 1,  5,  9],\n",
       "        [ 2,  6, 10],\n",
       "        [ 3,  7, 11]]),\n",
       " array([[ 0,  1,  2,  3],\n",
       "        [ 4,  5,  6,  7],\n",
       "        [ 8,  9, 10, 11]]))"
      ]
     },
     "execution_count": 70,
     "metadata": {},
     "output_type": "execute_result"
    }
   ],
   "source": [
    "# on the array above try transposition\n",
    "new_array.T, new_array"
   ]
  },
  {
   "cell_type": "markdown",
   "id": "352a18af",
   "metadata": {},
   "source": [
    "What is now the shape of the array?"
   ]
  },
  {
   "cell_type": "code",
   "execution_count": 71,
   "metadata": {},
   "outputs": [
    {
     "data": {
      "text/plain": [
       "((4, 3), (3, 4))"
      ]
     },
     "execution_count": 71,
     "metadata": {},
     "output_type": "execute_result"
    }
   ],
   "source": [
    "new_array.T.shape, new_array.shape\n"
   ]
  },
  {
   "cell_type": "markdown",
   "id": "656bd0f2",
   "metadata": {},
   "source": [
    "### "
   ]
  },
  {
   "cell_type": "code",
   "execution_count": 73,
   "id": "ac0d2c7b",
   "metadata": {},
   "outputs": [
    {
     "data": {
      "text/plain": [
       "(4, (2, 2, 2, 2))"
      ]
     },
     "execution_count": 73,
     "metadata": {},
     "output_type": "execute_result"
    }
   ],
   "source": [
    "# Multidimensional Array \n",
    "\n",
    "array1D = np.array([1, 2, 3, 4, 5])  # mono dimensional Array\n",
    "array2D = np.array([[1, 2, 3], [4, 5, 6]])  # bidimensional Array\n",
    "array3D = np.array([[\n",
    "\n",
    "    [\n",
    "        [1, 2], \n",
    "        [3, 4]\n",
    "    ], \n",
    "    [\n",
    "        [5, 6], \n",
    "        [7, 8]\n",
    "    ], \n",
    "    [\n",
    "        [9, 10],\n",
    "        [11, 12]\n",
    "    ]]])  # Tridimensional Array\n",
    "array4D = np.array([[[[1, 2], [3, 4]], [[5, 6], [7, 8]]], [[[9, 10], [11, 12]], [[13, 14], [15, 16]]]])\n",
    "\n",
    "array4D.ndim, array4D.shape"
   ]
  },
  {
   "cell_type": "markdown",
   "id": "8ff92bb7",
   "metadata": {},
   "source": [
    "## Creating Arrays\n",
    "\n",
    "For now, we have created arrays ourselves, but NumPy provides methods to create arrays more directly.\n",
    "\n",
    "### arange()\n",
    "\n",
    "To create an array in NumPy using the `arange()` function, you can specify a range of values and a step (increment) between the values. The basic syntax is as follows:\n",
    "\n",
    "Creating an array with `arange`:\n",
    "\n",
    "`array = np.arange(start, stop, step)`\n",
    "\n",
    "Where:\n",
    "\n",
    "- **start**: the starting value of the range (inclusive).\n",
    "- **stop**: the final value of the range (exclusive).\n",
    "- **step**: the increment between values.\n",
    "\n",
    "If you do not specify `start`, the default value is 0. If you do not specify `step`, the default value is 1.\n",
    "\n"
   ]
  },
  {
   "cell_type": "code",
   "execution_count": 77,
   "id": "81839e0f",
   "metadata": {},
   "outputs": [
    {
     "data": {
      "text/plain": [
       "array([0, 1, 2, 3, 4, 5, 6, 7, 8, 9])"
      ]
     },
     "execution_count": 77,
     "metadata": {},
     "output_type": "execute_result"
    }
   ],
   "source": [
    "# Create an array of values from 0 to 9\n",
    "np.arange(0, 10, 1)\n",
    "\n",
    "# Create an array of values from 5 to 14\n",
    "\n",
    "# Create an array of even values from 0 to 10\n",
    "\n",
    "# Create an array of values from 10 to 1 (in descending order)\n"
   ]
  },
  {
   "cell_type": "code",
   "execution_count": 19,
   "id": "31587a6e",
   "metadata": {},
   "outputs": [
    {
     "data": {
      "text/plain": [
       "array([ 0,  1,  2,  3,  4,  5,  6,  7,  8,  9, 10, 11])"
      ]
     },
     "execution_count": 19,
     "metadata": {},
     "output_type": "execute_result"
    }
   ],
   "source": [
    "# Crea un array dei multipli di 10 tra le prime 9 cifre (escluso lo zero) e disponi l'array su 5 righe e 2 colonne\n",
    "# my_array = \n",
    "my_array"
   ]
  },
  {
   "cell_type": "markdown",
   "id": "fd02074f",
   "metadata": {},
   "source": [
    "## Zero"
   ]
  },
  {
   "cell_type": "code",
   "execution_count": 79,
   "id": "474601d6",
   "metadata": {},
   "outputs": [
    {
     "data": {
      "text/plain": [
       "array([[[0., 0., 0.],\n",
       "        [0., 0., 0.],\n",
       "        [0., 0., 0.],\n",
       "        [0., 0., 0.]],\n",
       "\n",
       "       [[0., 0., 0.],\n",
       "        [0., 0., 0.],\n",
       "        [0., 0., 0.],\n",
       "        [0., 0., 0.]]])"
      ]
     },
     "execution_count": 79,
     "metadata": {},
     "output_type": "execute_result"
    }
   ],
   "source": [
    "np.zeros((2, 4, 3)) "
   ]
  },
  {
   "cell_type": "markdown",
   "id": "1c52e85c",
   "metadata": {},
   "source": [
    "## Ones "
   ]
  },
  {
   "cell_type": "code",
   "execution_count": 81,
   "id": "ae0ea733",
   "metadata": {},
   "outputs": [
    {
     "data": {
      "text/plain": [
       "array([[[1., 1.],\n",
       "        [1., 1.]],\n",
       "\n",
       "       [[1., 1.],\n",
       "        [1., 1.]]])"
      ]
     },
     "execution_count": 81,
     "metadata": {},
     "output_type": "execute_result"
    }
   ],
   "source": [
    "np.ones(shape=(2, 2, 2))"
   ]
  },
  {
   "cell_type": "markdown",
   "id": "9548d50a",
   "metadata": {},
   "source": [
    "### Values in a Range\n",
    "\n",
    "`linspace()` is used to create an array of evenly spaced values within a specified range. The basic syntax of `linspace()` is as follows:\n",
    "\n",
    "`array = np.linspace(start, stop, num)`\n",
    "\n",
    "Where:\n",
    "\n",
    "- **start**: the starting value of the range.\n",
    "- **stop**: the final value of the range.\n",
    "- **num**: the number of samples to generate between `start` and `stop`. This value indicates how many elements the array will have.\n",
    "\n",
    "The main difference between `arange()` and `linspace()` is that `arange()` uses a specific step between values, while `linspace()` automatically determines the step based on the number of requested samples.\n"
   ]
  },
  {
   "cell_type": "code",
   "execution_count": 87,
   "id": "2d5bd05f",
   "metadata": {},
   "outputs": [
    {
     "data": {
      "text/plain": [
       "1"
      ]
     },
     "execution_count": 87,
     "metadata": {},
     "output_type": "execute_result"
    }
   ],
   "source": [
    "# Create an array of 5 evenly spaced values from 0 to 10\n",
    "np.linspace(0, 10, 100).ndim\n",
    "# Create an array of 10 evenly spaced values from 0 to 1\n",
    "\n",
    "# Create an array of 20 evenly spaced values from -1 to 1\n",
    "\n"
   ]
  },
  {
   "cell_type": "code",
   "execution_count": 93,
   "id": "1d15630f",
   "metadata": {},
   "outputs": [
    {
     "data": {
      "image/png": "[encoded data removed]",
      "text/plain": [
       "<Figure size 640x480 with 1 Axes>"
      ]
     },
     "metadata": {},
     "output_type": "display_data"
    }
   ],
   "source": [
    "import matplotlib.pyplot as plt\n",
    "# linspace is pretty useful to generate graph axis\n",
    "# let's generate a graph of the sin(x) function\n",
    "\n",
    "# Generate evenly spaced x values using linspace\n",
    "\n",
    "x = np.linspace(0, 10, 10)  # 100 value from 0 to 10\n",
    "\n",
    "# Let's calculate the corresponding y values\n",
    "y = np.sin(x)\n",
    "\n",
    "# draw the plot\n",
    "plt.plot(x, y)\n",
    "plt.title('sin function')\n",
    "plt.xlabel('x')\n",
    "plt.ylabel('sin(x)')\n",
    "plt.grid(True)\n",
    "# plt.show()\n"
   ]
  },
  {
   "cell_type": "markdown",
   "id": "e0849aa4",
   "metadata": {},
   "source": [
    "### Random Numbers\n",
    "\n",
    "The function `numpy.random.rand()` is used to generate random values uniformly distributed between 0 and 1.\n",
    "\n",
    "You can specify the dimensions of the array you want to generate by passing arguments to the function. Here’s an example:\n"
   ]
  },
  {
   "cell_type": "code",
   "execution_count": 24,
   "id": "2abeb293",
   "metadata": {},
   "outputs": [
    {
     "name": "stdout",
     "output_type": "stream",
     "text": [
      "Random number array: \n",
      "[0.37454012 0.95071431 0.73199394 0.59865848 0.15601864]\n"
     ]
    }
   ],
   "source": [
    "# Create an array from random numbers\n",
    "np.random.seed(42)\n",
    "array_rnd = np.random.rand(5)  # the argument is the shape of the generated array\n",
    "print(\"Random number array: \")\n",
    "print(array_rnd)"
   ]
  },
  {
   "cell_type": "markdown",
   "id": "fd09787b",
   "metadata": {},
   "source": [
    "To generate random integers, you can use the function `numpy.random.randint()`. This function generates random integers within a specified range.\n",
    "\n",
    "Example:\n"
   ]
  },
  {
   "cell_type": "code",
   "execution_count": 6,
   "id": "30e50ef1",
   "metadata": {},
   "outputs": [
    {
     "name": "stdout",
     "output_type": "stream",
     "text": [
      "Random integers\n",
      "[3 5 5 1 4]\n"
     ]
    }
   ],
   "source": [
    "array_randint = np.random.randint(1, 11, size=5)  # 5 random integers between 1 and 10\n",
    "print(\"Random integers\")\n",
    "print(array_randint)"
   ]
  },
  {
   "cell_type": "code",
   "execution_count": 36,
   "id": "ed3ff987",
   "metadata": {},
   "outputs": [
    {
     "data": {
      "text/plain": [
       "''"
      ]
     },
     "execution_count": 36,
     "metadata": {},
     "output_type": "execute_result"
    }
   ],
   "source": [
    "# Generate a random array of integers between 1 and 100 for 1000 values, then reshape it into a 3 by 3\n",
    "rand_arr = ''\n",
    "rand_arr"
   ]
  },
  {
   "cell_type": "markdown",
   "id": "62f33115",
   "metadata": {},
   "source": [
    "## Random Numbers from a Distribution\n",
    "\n",
    "We can generate random numbers that follows a particular law, for exemple random number taken from a normal distribution "
   ]
  },
  {
   "cell_type": "code",
   "execution_count": 30,
   "id": "c4d2db46",
   "metadata": {},
   "outputs": [
    {
     "data": {
      "text/plain": [
       "array([ 0.55008647, -1.15577476,  1.15768782, -0.90299533,  0.89018446,\n",
       "        0.44465443, -0.8718596 , -0.28021882, -1.09660795, -1.60379216])"
      ]
     },
     "execution_count": 30,
     "metadata": {},
     "output_type": "execute_result"
    }
   ],
   "source": [
    "np.random.normal(0, 1, 10)"
   ]
  },
  {
   "cell_type": "markdown",
   "id": "3c4a98ce",
   "metadata": {},
   "source": [
    "**Let's Try** to generate random array of value from a normal distribution and plot the data. What happend if the sample will grow?"
   ]
  },
  {
   "cell_type": "markdown",
   "id": "6927e8b0",
   "metadata": {},
   "source": [
    "# Array Slicing\n",
    "\n",
    "It is a powerful way to extract portions of an array based on certain criteria. With slicing, you can select a subset of elements from an array according to their position along one or more axes.\n",
    "\n",
    "Slicing NumPy arrays is done by specifying a sequence of indices or ranges separated by commas within square brackets. The indices or ranges indicate which elements of the array will be included in the selection.\n",
    "- `array[1:4]` selects the elements from index 1 to index 3 (the final index is excluded).\n",
    "- `array[::2]` selects every second element of the array.\n",
    "- `matrix[:, 0]` selects all elements from the first column of the matrix.\n",
    "- `matrix[1:, :2]` selects a rectangular portion of the matrix, including all rows from the second one onward and only the first two columns.\n"
   ]
  },
  {
   "cell_type": "code",
   "execution_count": 106,
   "id": "1bb3b512",
   "metadata": {},
   "outputs": [
    {
     "data": {
      "text/plain": [
       "array([  0,   2,   4,   6,   8,  10,  12,  14,  16,  18,  20,  22,  24,\n",
       "        26,  28,  30,  32,  34,  36,  38,  40,  42,  44,  46,  48,  50,\n",
       "        52,  54,  56,  58,  60,  62,  64,  66,  68,  70,  72,  74,  76,\n",
       "        78,  80,  82,  84,  86,  88,  90,  92,  94,  96,  98, 100])"
      ]
     },
     "execution_count": 106,
     "metadata": {},
     "output_type": "execute_result"
    }
   ],
   "source": [
    "a = np.arange(0, 101)\n",
    "a[3:7:2]\n",
    "a[:7]\n",
    "a[::2]"
   ]
  },
  {
   "cell_type": "code",
   "execution_count": 108,
   "id": "62a4e208",
   "metadata": {},
   "outputs": [
    {
     "data": {
      "text/plain": [
       "array([[ 2, 10,  4,  7, 10],\n",
       "       [ 6,  9,  2,  2,  6]])"
      ]
     },
     "execution_count": 108,
     "metadata": {},
     "output_type": "execute_result"
    }
   ],
   "source": [
    "#first two rows all columns\n",
    "\n",
    "array_randint[:2, :]"
   ]
  },
  {
   "cell_type": "code",
   "execution_count": 62,
   "id": "8f9e9acf",
   "metadata": {
    "scrolled": true
   },
   "outputs": [],
   "source": [
    "#first one column\n"
   ]
  },
  {
   "cell_type": "code",
   "execution_count": 63,
   "id": "87fa83f7",
   "metadata": {},
   "outputs": [],
   "source": [
    "#row3rd 2nd element"
   ]
  },
  {
   "cell_type": "markdown",
   "id": "30400903",
   "metadata": {},
   "source": [
    "# Filtering array\n",
    "\n",
    "We can use boolean algebra directly on array"
   ]
  },
  {
   "cell_type": "code",
   "execution_count": 3,
   "id": "c144c432",
   "metadata": {},
   "outputs": [
    {
     "name": "stdout",
     "output_type": "stream",
     "text": [
      "Product names: ['Prod_1' 'Prod_2' 'Prod_3' 'Prod_4' 'Prod_5']\n",
      "Product prices: [10.99 19.99  5.49  7.95 12.5 ]\n"
     ]
    }
   ],
   "source": [
    "# Array with the names of the products\n",
    "prod_names = np.array([\"Prod_1\", \"Prod_2\", \"Prod_3\", \"Prod_4\", \"Prod_5\"])\n",
    "\n",
    "# Array with the prices of the products\n",
    "prod_prices = np.array([10.99, 19.99, 5.49, 7.95, 12.50])\n",
    "\n",
    "# Print the two arrays\n",
    "print(\"Product names:\", prod_names)\n",
    "print(\"Product prices:\", prod_prices)\n"
   ]
  },
  {
   "cell_type": "code",
   "execution_count": 4,
   "id": "ba1b077b",
   "metadata": {},
   "outputs": [
    {
     "data": {
      "text/plain": [
       "array([False, False,  True,  True, False])"
      ]
     },
     "execution_count": 4,
     "metadata": {},
     "output_type": "execute_result"
    }
   ],
   "source": [
    "cond_min10 = prod_prices <= 10\n",
    "cond_min10\n"
   ]
  },
  {
   "cell_type": "markdown",
   "id": "3c92604c",
   "metadata": {},
   "source": [
    "applicando l'array booleano a un array con i dati otterrò l'array filtrato"
   ]
  },
  {
   "cell_type": "code",
   "execution_count": 17,
   "id": "b35b048d",
   "metadata": {},
   "outputs": [
    {
     "data": {
      "text/plain": [
       "array(['Prod_3', 'Prod_4'], dtype='<U6')"
      ]
     },
     "execution_count": 17,
     "metadata": {},
     "output_type": "execute_result"
    }
   ],
   "source": [
    "prod_prices[cond_min10]\n",
    "prod_names[cond_min10]"
   ]
  },
  {
   "cell_type": "code",
   "execution_count": 7,
   "id": "4002705c",
   "metadata": {},
   "outputs": [
    {
     "data": {
      "text/plain": [
       "array([42, 40, 75, 21, 18, 63, 31, 94, 27, 15, 66, 60, 11, 86, 33, 77, 64,\n",
       "       60, 93, 28, 60, 94, 60, 24, 39, 14, 95,  1, 49, 49, 54, 28, 41, 16,\n",
       "       77, 98, 37,  7, 51, 90,  6, 20, 18, 85, 87, 41, 55, 61, 97, 11, 85,\n",
       "       60, 90, 19, 74, 55, 45, 58,  0, 65, 51, 68, 95, 58, 69, 10, 85,  4,\n",
       "       98, 49, 15, 79, 38, 68, 55, 58, 31, 31, 93, 60, 42, 53, 11, 28, 39,\n",
       "       93, 25, 77, 44, 71, 75,  6, 50, 81, 39, 31, 10, 71, 64,  7])"
      ]
     },
     "execution_count": 7,
     "metadata": {},
     "output_type": "execute_result"
    }
   ],
   "source": [
    "# trovare nell'array rand_arr i tutti i valori > 90 100 elements \n",
    "rand_100 = np.random.randint(0, 100, size=100)\n",
    "rand_100"
   ]
  },
  {
   "cell_type": "code",
   "execution_count": 16,
   "id": "7f658804",
   "metadata": {},
   "outputs": [
    {
     "name": "stdout",
     "output_type": "stream",
     "text": [
      "[False False False False False False False  True False False False False\n",
      " False False False False False False  True False False  True False False\n",
      " False False  True False False False False False False False False  True\n",
      " False False False False False False False False False False False False\n",
      "  True False False False False False False False False False False False\n",
      " False False  True False False False False False  True False False False\n",
      " False False False False False False  True False False False False False\n",
      " False  True False False False False False False False False False False\n",
      " False False False False]\n"
     ]
    },
    {
     "data": {
      "text/plain": [
       "array([94, 93, 94, 95, 98, 97, 95, 98, 93, 93])"
      ]
     },
     "execution_count": 16,
     "metadata": {},
     "output_type": "execute_result"
    }
   ],
   "source": [
    "filter_arr = rand_100 > 90\n",
    "print(filter_arr)\n",
    "rand_100[filter_arr].sum()\n",
    "rand_100[filter_arr].mean()\n",
    "# one line \n",
    "rand_100[rand_100 > 90]"
   ]
  },
  {
   "cell_type": "markdown",
   "id": "44ce04ed",
   "metadata": {},
   "source": [
    "# Sorting"
   ]
  },
  {
   "cell_type": "code",
   "execution_count": 3,
   "id": "f97f4598",
   "metadata": {},
   "outputs": [],
   "source": [
    "prices = np.array([5.99, 6.99, 22.49, 99.99, 4.99, 49.99])\n",
    "prices.sort()"
   ]
  },
  {
   "cell_type": "code",
   "execution_count": 4,
   "id": "c462eeef",
   "metadata": {},
   "outputs": [
    {
     "data": {
      "text/plain": [
       "array([ 4.99,  5.99,  6.99, 22.49, 49.99, 99.99])"
      ]
     },
     "execution_count": 4,
     "metadata": {},
     "output_type": "execute_result"
    }
   ],
   "source": [
    "prices"
   ]
  },
  {
   "cell_type": "code",
   "execution_count": 5,
   "id": "4a0b5694",
   "metadata": {},
   "outputs": [
    {
     "data": {
      "text/plain": [
       "array([22.49, 49.99, 99.99])"
      ]
     },
     "execution_count": 5,
     "metadata": {},
     "output_type": "execute_result"
    }
   ],
   "source": [
    "# find the three higest prices\n",
    "prices[-3:]"
   ]
  },
  {
   "cell_type": "markdown",
   "id": "c0c34d73",
   "metadata": {},
   "source": [
    "## Where \n",
    "\n",
    "Anther way to apply a condition to an array is the `where()` method. The syntax is\n",
    "    where(`boolean condition`, `value if true`, `value if false`)"
   ]
  },
  {
   "cell_type": "code",
   "execution_count": 51,
   "id": "a006a64f",
   "metadata": {},
   "outputs": [
    {
     "data": {
      "text/plain": [
       "31.74"
      ]
     },
     "execution_count": 51,
     "metadata": {},
     "output_type": "execute_result"
    }
   ],
   "source": [
    "# find the price that are higher than the mean\n",
    "prices.mean()\n",
    "# np.where()"
   ]
  },
  {
   "cell_type": "markdown",
   "id": "0cb443ab",
   "metadata": {},
   "source": [
    "#### Check Please\n",
    "\n",
    "Calculate the check, try to use all the functionality seen for the array. \n",
    "\n",
    "The menu array contains the info about type of food and its price, the order array has 1 on the food ordered by a client, each row rapresent a client.\n",
    "\n",
    "You can use `array.sum()` to calculate the sum of the elements inside an array.\n",
    "\n",
    "- Create a new array in which each line will show a name of food, its price and a final row with total "
   ]
  },
  {
   "cell_type": "code",
   "execution_count": 6,
   "id": "3b667cc1",
   "metadata": {},
   "outputs": [
    {
     "data": {
      "text/plain": [
       "array([['beef', 'pasta', 'hamburger', 'salad', 'cake'],\n",
       "       ['21.0', '13.5', '15.3', '7.0', '6.4']], dtype='<U32')"
      ]
     },
     "execution_count": 6,
     "metadata": {},
     "output_type": "execute_result"
    }
   ],
   "source": [
    "# array menu\n",
    "menu_item = np.array([\"beef\", \"pasta\", \"hamburger\", \"salad\", \"cake\"])\n",
    "menu_price = np.array([21.0, 13.5, 15.3, 7., 6.4])\n",
    "## The menu\n",
    "menu = np.vstack((menu_item, menu_price))\n",
    "menu"
   ]
  },
  {
   "cell_type": "code",
   "execution_count": 8,
   "id": "db62c2cd",
   "metadata": {},
   "outputs": [
    {
     "data": {
      "text/plain": [
       "array([[1, 0, 1, 0, 1],\n",
       "       [1, 0, 0, 0, 0],\n",
       "       [0, 0, 0, 0, 0]])"
      ]
     },
     "execution_count": 8,
     "metadata": {},
     "output_type": "execute_result"
    }
   ],
   "source": [
    "# Orders of 3 clients \n",
    "orders = np.random.randint(0, 2, size=(3,5))\n",
    "orders"
   ]
  },
  {
   "cell_type": "code",
   "execution_count": 16,
   "id": "dd10eb5a",
   "metadata": {},
   "outputs": [
    {
     "name": "stdout",
     "output_type": "stream",
     "text": [
      "[[21.   0.  15.3  0.   6.4]\n",
      " [21.   0.   0.   0.   0. ]\n",
      " [ 0.   0.   0.   0.   0. ]]\n"
     ]
    },
    {
     "data": {
      "text/plain": [
       "array([42. ,  0. , 15.3,  0. ,  6.4])"
      ]
     },
     "execution_count": 16,
     "metadata": {},
     "output_type": "execute_result"
    }
   ],
   "source": [
    "tot_cli = orders * menu_price\n",
    "print(tot_cli)\n",
    "tot_cli[0, :].sum()\n",
    "\n",
    "tot_cli.sum(axis=1)\n",
    "tot_cli.sum(axis=0)"
   ]
  }
 ],
 "metadata": {
  "kernelspec": {
   "display_name": "Python 3",
   "language": "python",
   "name": "python3"
  },
  "language_info": {
   "codemirror_mode": {
    "name": "ipython",
    "version": 3
   },
   "file_extension": ".py",
   "mimetype": "text/x-python",
   "name": "python",
   "nbconvert_exporter": "python",
   "pygments_lexer": "ipython3",
   "version": "3.10.12"
  }
 },
 "nbformat": 4,
 "nbformat_minor": 5
}
