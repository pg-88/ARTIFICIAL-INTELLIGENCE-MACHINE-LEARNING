{
 "cells": [
  {
   "cell_type": "markdown",
   "id": "d0d4a2ef",
   "metadata": {},
   "source": [
    "### Package Imports"
   ]
  },
  {
   "cell_type": "code",
   "execution_count": 4,
   "id": "dbd96293",
   "metadata": {},
   "outputs": [],
   "source": [
    "import numpy as np"
   ]
  },
  {
   "cell_type": "markdown",
   "id": "3a5e9bd3",
   "metadata": {},
   "source": [
    "# Array Basics\n",
    "\n",
    "## List != Array\n",
    "\n",
    "Lists are objects in Python that can contain any type of data, whereas an array is also an object that represents a sequence of elements that are homogeneous in type and of predefined size."
   ]
  },
  {
   "cell_type": "code",
   "execution_count": 2,
   "id": "6d3f8d99",
   "metadata": {},
   "outputs": [
    {
     "data": {
      "text/plain": [
       "[10, 20, 30, 40, 50, 60, 70, 80, 90, 100]"
      ]
     },
     "execution_count": 2,
     "metadata": {},
     "output_type": "execute_result"
    }
   ],
   "source": [
    "my_list1 = [x * 10 for x in range(1, 11)]\n",
    "\n",
    "my_list1"
   ]
  },
  {
   "cell_type": "markdown",
   "id": "8700d03c",
   "metadata": {},
   "source": [
    "## From List to Array \n",
    "\n",
    "\n",
    "    my_list = [\"a\", \"e\", \"i\", \"o\", \"u\"]\n",
    "    my_array = np.array(my_list)\n",
    "\n",
    "## **TO DO**:\n",
    "\n",
    "**Create a list that contains the numbers of the 3 times table and then convert it into an array.**\n",
    "\n",
    "*Note*: Use list comprehensions to create the Python list, it's a more compact syntax and the interpreter prefers it too!\n",
    "\n",
    "```python\n",
    "new_list = [ `operation to apply to each element` for `element in loop` in range(`start`, `stop`, `step`)]\n"
   ]
  },
  {
   "cell_type": "code",
   "execution_count": 3,
   "id": "22aa8a50",
   "metadata": {},
   "outputs": [
    {
     "data": {
      "text/plain": [
       "array([ 0,  3,  6,  9, 12, 15, 18, 21, 24, 27, 30], dtype=uint16)"
      ]
     },
     "execution_count": 3,
     "metadata": {},
     "output_type": "execute_result"
    }
   ],
   "source": [
    "# crea la lista \n",
    "tab_three = [x for x in range(0, 31, 3)]\n",
    "\n",
    "#trasforma in array\n",
    "tab_three = np.array(tab_three, 'H')\n",
    "tab_three"
   ]
  },
  {
   "cell_type": "code",
   "execution_count": 4,
   "id": "d2f4922c",
   "metadata": {},
   "outputs": [
    {
     "data": {
      "text/plain": [
       "[0, 6, 12, 18, 24, 30]"
      ]
     },
     "execution_count": 4,
     "metadata": {},
     "output_type": "execute_result"
    }
   ],
   "source": [
    "[x for x in range(0, 31, 3) if x%2 ==0]"
   ]
  },
  {
   "cell_type": "markdown",
   "id": "b496b6c0",
   "metadata": {},
   "source": [
    "### What has changed\n",
    "\n",
    "The fundamental difference between Lists and Numpy Arrays is the data type of the elements they hold.\n",
    "\n",
    "- A list can contain any type of data without enforcing homogeneity among its elements.\n",
    "- An array contains only one data type.\n"
   ]
  },
  {
   "cell_type": "code",
   "execution_count": 5,
   "id": "ad4c16cb",
   "metadata": {},
   "outputs": [],
   "source": [
    "valid_list = [2, \"hello\", \"world\", 42]\n",
    "\n",
    "# np.array(lista_valida)"
   ]
  },
  {
   "cell_type": "markdown",
   "id": "68e700ce",
   "metadata": {},
   "source": [
    "## A Limitation or a Feature?\n",
    "\n",
    "The fact that the array behaves this way may seem like a limitation, but the reality is that Python aims to make life easier for the programmer, often at the expense of performance, making certain types of operations harder (for the machine) to execute.\n",
    "\n",
    "We should think of an array as a sequence of identical elements lined up one after another, whereas a list is a hodgepodge of scattered elements. Some elements can be very large, others very small, and we can locate them only because each element tells us where to find the next one—it's almost like a treasure hunt!\n"
   ]
  },
  {
   "cell_type": "markdown",
   "id": "661c280b",
   "metadata": {},
   "source": [
    "<img src=\"arrayVSlists.jpg\">"
   ]
  },
  {
   "cell_type": "code",
   "execution_count": 1,
   "id": "79acf2ea",
   "metadata": {},
   "outputs": [],
   "source": [
    "# np.array([\"a\", \"e\", \"i\", \"o\", \"u\"])"
   ]
  },
  {
   "cell_type": "markdown",
   "id": "58bcaea2",
   "metadata": {},
   "source": [
    "## Operations\n",
    "\n",
    "Another major difference is that arrays can be treated as a block of numbers and used directly for mathematical operations.\n",
    "\n",
    "## **TO DO**:\n",
    "Multiply all values in the **list** of multiples of 3 by the number 4. *To do this on a list, a loop is required.*\n"
   ]
  },
  {
   "cell_type": "code",
   "execution_count": 15,
   "id": "97c51439",
   "metadata": {},
   "outputs": [
    {
     "data": {
      "text/plain": [
       "168"
      ]
     },
     "execution_count": 15,
     "metadata": {},
     "output_type": "execute_result"
    }
   ],
   "source": [
    "tab_three_times_four = []\n"
   ]
  },
  {
   "cell_type": "markdown",
   "id": "b66f9a19",
   "metadata": {},
   "source": [
    "Ora proviamo con l'array:\n"
   ]
  },
  {
   "cell_type": "code",
   "execution_count": 6,
   "id": "e07d3459",
   "metadata": {},
   "outputs": [],
   "source": [
    "# arr_three_times_four = ..."
   ]
  },
  {
   "cell_type": "markdown",
   "id": "997be626",
   "metadata": {},
   "source": [
    "## Numbers, But What Kind?\n",
    "\n",
    "Data types in Numpy are primarily designed to handle and manipulate numbers of various sizes.  \n",
    "The NumPy Documentation can help us better understand the available data types and how to use them:\n",
    "- [Data Types](https://numpy.org/doc/stable/user/basics.types.html)\n",
    "\n",
    "Having all data of the same type allows for better memory management and leads to significant performance benefits, especially when working with large datasets.\n"
   ]
  },
  {
   "cell_type": "code",
   "execution_count": 7,
   "id": "3857d36d",
   "metadata": {},
   "outputs": [],
   "source": [
    "my_list1 = [x * 10 for x in range(1, 11)]"
   ]
  },
  {
   "cell_type": "code",
   "execution_count": 12,
   "id": "ee4910f0",
   "metadata": {},
   "outputs": [
    {
     "data": {
      "text/plain": [
       "array([ 10,  20,  30,  40,  50,  60,  70,  80,  90, 100])"
      ]
     },
     "execution_count": 12,
     "metadata": {},
     "output_type": "execute_result"
    }
   ],
   "source": [
    "# make an array from my_list1"
   ]
  },
  {
   "cell_type": "code",
   "execution_count": 27,
   "id": "2b1a7bd2",
   "metadata": {},
   "outputs": [],
   "source": [
    "my_list2 = [\"helloW\", \"world\", \"a\", \"b\"]\n"
   ]
  },
  {
   "cell_type": "code",
   "execution_count": 11,
   "id": "317eafb6",
   "metadata": {},
   "outputs": [],
   "source": [
    "# can we convert my_list2 to an array?"
   ]
  },
  {
   "cell_type": "code",
   "execution_count": 18,
   "id": "0aa48f22",
   "metadata": {},
   "outputs": [],
   "source": [
    "# my_array1.dtype\n",
    "# my_array2.dtype"
   ]
  },
  {
   "cell_type": "markdown",
   "id": "49267821",
   "metadata": {},
   "source": [
    "## [Broadcasting](https://numpy.org/doc/stable/user/basics.broadcasting.html)\n",
    "\n",
    "The operation we performed earlier to multiply an array by an integer can be generalized. In fact, we can think of the integer as a one-dimensional array.\n",
    "\n",
    "This leads us to conclude that, to perform operations on arrays, they do not necessarily need to have the same size and shape.\n"
   ]
  },
  {
   "cell_type": "code",
   "execution_count": 32,
   "id": "7fe796be",
   "metadata": {},
   "outputs": [
    {
     "data": {
      "text/plain": [
       "(2, 4)"
      ]
     },
     "execution_count": 32,
     "metadata": {},
     "output_type": "execute_result"
    }
   ],
   "source": [
    "a = np.array([[0.0, 10.0, 20.0, 30.0], [40.0, 50.0, 60.0, 70.0]])\n",
    "b = np.array([1.,2.,3.])\n",
    "# a + b \n",
    "a.shape"
   ]
  },
  {
   "cell_type": "markdown",
   "id": "1c11d9b9",
   "metadata": {},
   "source": [
    "However, they must still meet certain constraints regarding their form, known as their **shape**.\n",
    "\n",
    "For example, if we want to add or multiply arrays of different sizes, the smaller array needs to be \"broadcasted\" across the larger one. Broadcasting is a technique that NumPy uses to allow operations between arrays of different shapes, under specific conditions. \n",
    "\n",
    "The shape constraints ensure that NumPy knows how to align the elements of each array for operations. Typically, the dimensions must be compatible, which means either they are the same, or one of them is 1 so it can be stretched or repeated across the larger dimension. This flexibility allows for efficient array manipulations and simplifies the code, as we can work directly with arrays of different sizes without needing complex loops or extra transformations.\n"
   ]
  },
  {
   "cell_type": "markdown",
   "id": "d4eceb7c",
   "metadata": {},
   "source": [
    "## shape\n",
    "\n",
    "The `shape` attribute is used to return the dimensions of an array. The `shape` attribute returns a tuple representing the number of elements along each dimension of the array.  \n",
    "The first number represents the rows, and the second represents the columns.\n",
    "\n",
    "To perform operations between two arrays, the number of columns in the first array must be equal to the number of rows in the second, or they must have the same shape.\n",
    "\n"
   ]
  },
  {
   "cell_type": "code",
   "execution_count": 35,
   "id": "d2e2fae3",
   "metadata": {},
   "outputs": [
    {
     "data": {
      "text/plain": [
       "(1, 4)"
      ]
     },
     "execution_count": 35,
     "metadata": {},
     "output_type": "execute_result"
    }
   ],
   "source": [
    "c = np.array([0., 0.])\n",
    "c.shape\n",
    "b.shape\n",
    "# a + c \n",
    "d = np.array([3.,4.,5.,6.])\n",
    "d.shape\n"
   ]
  },
  {
   "cell_type": "markdown",
   "id": "8bbb3ee2",
   "metadata": {},
   "source": [
    "## The Shape Can Change\n",
    "\n",
    "The `reshape()` method in NumPy is used to change the shape of an array without altering its data. It allows you to resize the array to fit a new specified shape, as long as the total number of elements remains unchanged.\n",
    "\n",
    "Transform the array: `[ 0  1  2  3  4  5  6  7  8  9 10 11]` into an array with 3 rows and 4 columns.\n"
   ]
  },
  {
   "cell_type": "code",
   "execution_count": 15,
   "id": "bdd540c9",
   "metadata": {},
   "outputs": [],
   "source": [
    "# make this row array a 3 row, 4 column array\n",
    "my_array = np.array([ 0 , 1,  2,  3,  4,  5,  6,  7,  8,  9, 10, 11])\n"
   ]
  },
  {
   "cell_type": "markdown",
   "id": "05778804",
   "metadata": {},
   "source": [
    "# Transposition\n",
    "\n",
    "Sometimes it is necessary to flip arrays, turning rows into columns.\n",
    "\n",
    "This operation is called transposition.\n"
   ]
  },
  {
   "cell_type": "code",
   "execution_count": 16,
   "id": "acd65c1c",
   "metadata": {},
   "outputs": [],
   "source": [
    "# on the array above try transposition"
   ]
  },
  {
   "cell_type": "markdown",
   "id": "352a18af",
   "metadata": {},
   "source": [
    "What is now the shape of the array?"
   ]
  },
  {
   "cell_type": "markdown",
   "id": "656bd0f2",
   "metadata": {},
   "source": [
    "### "
   ]
  },
  {
   "cell_type": "code",
   "execution_count": 17,
   "id": "ac0d2c7b",
   "metadata": {},
   "outputs": [
    {
     "data": {
      "text/plain": [
       "4"
      ]
     },
     "execution_count": 17,
     "metadata": {},
     "output_type": "execute_result"
    }
   ],
   "source": [
    "# Multidimensional Array \n",
    "\n",
    "array1D = np.array([1, 2, 3, 4, 5])  # mono dimensional Array\n",
    "array2D = np.array([[1, 2, 3], [4, 5, 6]])  # bidimensional Array\n",
    "array3D = np.array([[\n",
    "\n",
    "    [\n",
    "        [1, 2], \n",
    "        [3, 4]\n",
    "    ], \n",
    "    [\n",
    "        [5, 6], \n",
    "        [7, 8]\n",
    "    ], \n",
    "    [\n",
    "        [9, 10],\n",
    "        [11, 12]\n",
    "    ]]])  # Tridimensional Array\n",
    "array4D = np.array([[[[1, 2], [3, 4]], [[5, 6], [7, 8]]], [[[9, 10], [11, 12]], [[13, 14], [15, 16]]]])"
   ]
  },
  {
   "cell_type": "markdown",
   "id": "8ff92bb7",
   "metadata": {},
   "source": [
    "## Creating Arrays\n",
    "\n",
    "For now, we have created arrays ourselves, but NumPy provides methods to create arrays more directly.\n",
    "\n",
    "### arange()\n",
    "\n",
    "To create an array in NumPy using the `arange()` function, you can specify a range of values and a step (increment) between the values. The basic syntax is as follows:\n",
    "\n",
    "Creating an array with `arange`:\n",
    "\n",
    "`array = np.arange(start, stop, step)`\n",
    "\n",
    "Where:\n",
    "\n",
    "- **start**: the starting value of the range (inclusive).\n",
    "- **stop**: the final value of the range (exclusive).\n",
    "- **step**: the increment between values.\n",
    "\n",
    "If you do not specify `start`, the default value is 0. If you do not specify `step`, the default value is 1.\n",
    "\n"
   ]
  },
  {
   "cell_type": "code",
   "execution_count": null,
   "id": "81839e0f",
   "metadata": {},
   "outputs": [],
   "source": [
    "# Create an array of values from 0 to 9\n",
    "\n",
    "# Create an array of values from 5 to 14\n",
    "\n",
    "# Create an array of even values from 0 to 10\n",
    "\n",
    "# Create an array of values from 10 to 1 (in descending order)\n"
   ]
  },
  {
   "cell_type": "code",
   "execution_count": 19,
   "id": "31587a6e",
   "metadata": {},
   "outputs": [
    {
     "data": {
      "text/plain": [
       "array([ 0,  1,  2,  3,  4,  5,  6,  7,  8,  9, 10, 11])"
      ]
     },
     "execution_count": 19,
     "metadata": {},
     "output_type": "execute_result"
    }
   ],
   "source": [
    "# Crea un array dei multipli di 10 tra le prime 9 cifre (escluso lo zero) e disponi l'array su 5 righe e 2 colonne\n",
    "# my_array = \n",
    "my_array"
   ]
  },
  {
   "cell_type": "markdown",
   "id": "9548d50a",
   "metadata": {},
   "source": [
    "### Values in a Range\n",
    "\n",
    "`linspace()` is used to create an array of evenly spaced values within a specified range. The basic syntax of `linspace()` is as follows:\n",
    "\n",
    "`array = np.linspace(start, stop, num)`\n",
    "\n",
    "Where:\n",
    "\n",
    "- **start**: the starting value of the range.\n",
    "- **stop**: the final value of the range.\n",
    "- **num**: the number of samples to generate between `start` and `stop`. This value indicates how many elements the array will have.\n",
    "\n",
    "The main difference between `arange()` and `linspace()` is that `arange()` uses a specific step between values, while `linspace()` automatically determines the step based on the number of requested samples.\n"
   ]
  },
  {
   "cell_type": "code",
   "execution_count": null,
   "id": "2d5bd05f",
   "metadata": {},
   "outputs": [],
   "source": [
    "# Create an array of 5 evenly spaced values from 0 to 10\n",
    "\n",
    "# Create an array of 10 evenly spaced values from 0 to 1\n",
    "\n",
    "# Create an array of 20 evenly spaced values from -1 to 1\n",
    "\n"
   ]
  },
  {
   "cell_type": "code",
   "execution_count": 21,
   "id": "1d15630f",
   "metadata": {},
   "outputs": [
    {
     "data": {
      "image/png": "[encoded data removed]",
      "text/plain": [
       "<Figure size 640x480 with 1 Axes>"
      ]
     },
     "metadata": {},
     "output_type": "display_data"
    }
   ],
   "source": [
    "import matplotlib.pyplot as plt\n",
    "# linspace is pretty useful to generate graph axis\n",
    "# let's generate a graph of the sin(x) function\n",
    "\n",
    "# Generate evenly spaced x values using linspace\n",
    "\n",
    "# x =  # 100 value from 0 to 10\n",
    "\n",
    "# Let's calculate the corresponding y values\n",
    "# y = \n",
    "\n",
    "# draw the plot\n",
    "plt.plot(x, y)\n",
    "plt.title('sin function')\n",
    "plt.xlabel('x')\n",
    "plt.ylabel('sin(x)')\n",
    "plt.grid(True)\n",
    "plt.show()\n",
    "#"
   ]
  },
  {
   "cell_type": "markdown",
   "id": "e0849aa4",
   "metadata": {},
   "source": [
    "### Random Numbers\n",
    "\n",
    "The function `numpy.random.rand()` is used to generate random values uniformly distributed between 0 and 1.\n",
    "\n",
    "You can specify the dimensions of the array you want to generate by passing arguments to the function. Here’s an example:\n"
   ]
  },
  {
   "cell_type": "code",
   "execution_count": 24,
   "id": "2abeb293",
   "metadata": {},
   "outputs": [
    {
     "name": "stdout",
     "output_type": "stream",
     "text": [
      "Random number array: \n",
      "[0.37454012 0.95071431 0.73199394 0.59865848 0.15601864]\n"
     ]
    }
   ],
   "source": [
    "# Create an array from random numbers\n",
    "np.random.seed(42)\n",
    "array_rnd = np.random.rand(5)  # the argument is the shape of the generated array\n",
    "print(\"Random number array: \")\n",
    "print(array_rnd)"
   ]
  },
  {
   "cell_type": "markdown",
   "id": "fd09787b",
   "metadata": {},
   "source": [
    "To generate random integers, you can use the function `numpy.random.randint()`. This function generates random integers within a specified range.\n",
    "\n",
    "Example:\n"
   ]
  },
  {
   "cell_type": "code",
   "execution_count": 26,
   "id": "30e50ef1",
   "metadata": {},
   "outputs": [
    {
     "name": "stdout",
     "output_type": "stream",
     "text": [
      "Random integers\n",
      "[2 8 6 2 5]\n"
     ]
    }
   ],
   "source": [
    "array_randint = np.random.randint(1, 11, size=5)  # 5 random integers between 1 and 10\n",
    "print(\"Random integers\")\n",
    "print(array_randint)"
   ]
  },
  {
   "cell_type": "code",
   "execution_count": 36,
   "id": "ed3ff987",
   "metadata": {},
   "outputs": [
    {
     "data": {
      "text/plain": [
       "''"
      ]
     },
     "execution_count": 36,
     "metadata": {},
     "output_type": "execute_result"
    }
   ],
   "source": [
    "# Generate a random array of integers between 1 and 100 for 1000 values, then reshape it into a 3 by 3\n",
    "rand_arr = ''\n",
    "rand_arr"
   ]
  },
  {
   "cell_type": "markdown",
   "id": "6927e8b0",
   "metadata": {},
   "source": [
    "# Array Slicing\n",
    "\n",
    "It is a powerful way to extract portions of an array based on certain criteria. With slicing, you can select a subset of elements from an array according to their position along one or more axes.\n",
    "\n",
    "Slicing NumPy arrays is done by specifying a sequence of indices or ranges separated by commas within square brackets. The indices or ranges indicate which elements of the array will be included in the selection.\n",
    "- `array[1:4]` selects the elements from index 1 to index 3 (the final index is excluded).\n",
    "- `array[::2]` selects every second element of the array.\n",
    "- `matrix[:, 0]` selects all elements from the first column of the matrix.\n",
    "- `matrix[1:, :2]` selects a rectangular portion of the matrix, including all rows from the second one onward and only the first two columns.\n"
   ]
  },
  {
   "cell_type": "code",
   "execution_count": null,
   "id": "62a4e208",
   "metadata": {},
   "outputs": [],
   "source": [
    "#first two rows all columns"
   ]
  },
  {
   "cell_type": "code",
   "execution_count": 62,
   "id": "8f9e9acf",
   "metadata": {
    "scrolled": true
   },
   "outputs": [],
   "source": [
    "#first one column"
   ]
  },
  {
   "cell_type": "code",
   "execution_count": 63,
   "id": "87fa83f7",
   "metadata": {},
   "outputs": [],
   "source": [
    "#row3rd 2nd element"
   ]
  },
  {
   "cell_type": "markdown",
   "id": "30400903",
   "metadata": {},
   "source": [
    "# Filtering array\n",
    "\n",
    "We can use boolean algebra directly on array"
   ]
  },
  {
   "cell_type": "code",
   "execution_count": 37,
   "id": "c144c432",
   "metadata": {},
   "outputs": [
    {
     "name": "stdout",
     "output_type": "stream",
     "text": [
      "Product names: ['Prodotto 1' 'Prodotto 2' 'Prodotto 3' 'Prodotto 4' 'Prodotto 5']\n",
      "Product prices: [10.99 19.99  5.49  7.95 12.5 ]\n"
     ]
    }
   ],
   "source": [
    "# Array with the names of the products\n",
    "prod_names = np.array([\"Prodotto 1\", \"Prodotto 2\", \"Prodotto 3\", \"Prodotto 4\", \"Prodotto 5\"])\n",
    "\n",
    "# Array with the prices of the products\n",
    "prod_prices = np.array([10.99, 19.99, 5.49, 7.95, 12.50])\n",
    "\n",
    "# Print the two arrays\n",
    "print(\"Product names:\", prod_names)\n",
    "print(\"Product prices:\", prod_prices)\n"
   ]
  },
  {
   "cell_type": "code",
   "execution_count": 40,
   "id": "ba1b077b",
   "metadata": {},
   "outputs": [
    {
     "data": {
      "text/plain": [
       "array([False, False,  True,  True, False])"
      ]
     },
     "execution_count": 40,
     "metadata": {},
     "output_type": "execute_result"
    }
   ],
   "source": [
    "cond_min10 = prod_prices <= 10\n",
    "cond_min10"
   ]
  },
  {
   "cell_type": "markdown",
   "id": "3c92604c",
   "metadata": {},
   "source": [
    "applicando l'array booleano a un array con i dati otterrò l'array filtrato"
   ]
  },
  {
   "cell_type": "code",
   "execution_count": 41,
   "id": "b35b048d",
   "metadata": {},
   "outputs": [
    {
     "data": {
      "text/plain": [
       "array([5.49, 7.95])"
      ]
     },
     "execution_count": 41,
     "metadata": {},
     "output_type": "execute_result"
    }
   ],
   "source": [
    "prod_prices[cond_min10]"
   ]
  },
  {
   "cell_type": "code",
   "execution_count": 42,
   "id": "4002705c",
   "metadata": {},
   "outputs": [],
   "source": [
    "# trovare nell'array rand_arr i tutti i valori > 90"
   ]
  },
  {
   "cell_type": "markdown",
   "id": "44ce04ed",
   "metadata": {},
   "source": [
    "# Sorting"
   ]
  },
  {
   "cell_type": "code",
   "execution_count": 45,
   "id": "f97f4598",
   "metadata": {},
   "outputs": [],
   "source": [
    "prices = np.array([5.99, 6.99, 22.49, 99.99, 4.99, 49.99])\n",
    "prices.sort()"
   ]
  },
  {
   "cell_type": "code",
   "execution_count": 50,
   "id": "c462eeef",
   "metadata": {},
   "outputs": [
    {
     "data": {
      "text/plain": [
       "array([ 4.99,  5.99,  6.99, 22.49, 49.99, 99.99])"
      ]
     },
     "execution_count": 50,
     "metadata": {},
     "output_type": "execute_result"
    }
   ],
   "source": [
    "prices"
   ]
  },
  {
   "cell_type": "code",
   "execution_count": 43,
   "id": "4a0b5694",
   "metadata": {},
   "outputs": [],
   "source": [
    "# find the three higest prices"
   ]
  },
  {
   "cell_type": "markdown",
   "id": "c0c34d73",
   "metadata": {},
   "source": [
    "## Where \n",
    "\n",
    "Anther way to apply a condition to an array is the `where()` method"
   ]
  },
  {
   "cell_type": "code",
   "execution_count": 51,
   "id": "a006a64f",
   "metadata": {},
   "outputs": [
    {
     "data": {
      "text/plain": [
       "31.74"
      ]
     },
     "execution_count": 51,
     "metadata": {},
     "output_type": "execute_result"
    }
   ],
   "source": [
    "# find the price that are haiger than the mean\n",
    "prices.mean()\n",
    "# np.where()"
   ]
  }
 ],
 "metadata": {
  "kernelspec": {
   "display_name": "Python 3",
   "language": "python",
   "name": "python3"
  },
  "language_info": {
   "codemirror_mode": {
    "name": "ipython",
    "version": 3
   },
   "file_extension": ".py",
   "mimetype": "text/x-python",
   "name": "python",
   "nbconvert_exporter": "python",
   "pygments_lexer": "ipython3",
   "version": "3.10.12"
  }
 },
 "nbformat": 4,
 "nbformat_minor": 5
}
