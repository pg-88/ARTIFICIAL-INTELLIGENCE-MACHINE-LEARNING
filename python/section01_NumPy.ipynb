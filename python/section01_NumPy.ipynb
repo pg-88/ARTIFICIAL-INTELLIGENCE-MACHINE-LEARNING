{
 "cells": [
  {
   "cell_type": "markdown",
   "id": "d0d4a2ef",
   "metadata": {},
   "source": [
    "### Package Imports"
   ]
  },
  {
   "cell_type": "code",
   "execution_count": 1,
   "id": "dbd96293",
   "metadata": {},
   "outputs": [],
   "source": [
    "import numpy as np"
   ]
  },
  {
   "cell_type": "markdown",
   "id": "3a5e9bd3",
   "metadata": {},
   "source": [
    "# Array Basics\n",
    "\n",
    "## List != Array\n",
    "\n",
    "Lists are objects in Python that can contain any type of data, whereas an array is also an object that represents a sequence of elements that are homogeneous in type and of predefined size."
   ]
  },
  {
   "cell_type": "code",
   "execution_count": 3,
   "id": "6d3f8d99",
   "metadata": {},
   "outputs": [
    {
     "data": {
      "text/plain": [
       "[10, 20, 30, 40, 50, 60, 70, 80, 90, 100]"
      ]
     },
     "execution_count": 3,
     "metadata": {},
     "output_type": "execute_result"
    }
   ],
   "source": [
    "my_list1 = [x * 10 for x in range(1, 11)]\n",
    "\n",
    "my_list1"
   ]
  },
  {
   "cell_type": "markdown",
   "id": "8700d03c",
   "metadata": {},
   "source": [
    "## From List to Array \n",
    "\n",
    "\n",
    "    my_list = [\"a\", \"e\", \"i\", \"o\", \"u\"]\n",
    "    my_array = np.array(my_list)\n",
    "\n",
    "## **TO DO**:\n",
    "\n",
    "**Create a list that contains the numbers of the 3 times table and then convert it into an array.**\n",
    "\n",
    "*Note*: Use list comprehensions to create the Python list, it's a more compact syntax and the interpreter prefers it too!\n",
    "\n",
    "```python\n",
    "new_list = [ `operation to apply to each element` for `element in loop` in range(`start`, `stop`, `step`)]\n"
   ]
  },
  {
   "cell_type": "code",
   "execution_count": 5,
   "id": "22aa8a50",
   "metadata": {},
   "outputs": [
    {
     "ename": "TypeError",
     "evalue": "array() missing required argument 'object' (pos 0)",
     "output_type": "error",
     "traceback": [
      "\u001b[0;31m---------------------------------------------------------------------------\u001b[0m",
      "\u001b[0;31mTypeError\u001b[0m                                 Traceback (most recent call last)",
      "Cell \u001b[0;32mIn [5], line 7\u001b[0m\n\u001b[1;32m      2\u001b[0m tab_three \u001b[38;5;241m=\u001b[39m []\n\u001b[1;32m      3\u001b[0m \u001b[38;5;66;03m# tab_three = list()\u001b[39;00m\n\u001b[1;32m      4\u001b[0m \n\u001b[1;32m      5\u001b[0m \n\u001b[1;32m      6\u001b[0m \u001b[38;5;66;03m#create array from the list\u001b[39;00m\n\u001b[0;32m----> 7\u001b[0m tab_three \u001b[38;5;241m=\u001b[39m \u001b[43mnp\u001b[49m\u001b[38;5;241;43m.\u001b[39;49m\u001b[43marray\u001b[49m\u001b[43m(\u001b[49m\u001b[43m)\u001b[49m\n\u001b[1;32m      8\u001b[0m tab_three\n",
      "\u001b[0;31mTypeError\u001b[0m: array() missing required argument 'object' (pos 0)"
     ]
    }
   ],
   "source": [
    "# create the list\n",
    "tab_three = []\n",
    "# tab_three = list()\n",
    "\n",
    "\n",
    "#create array from the list\n",
    "tab_three = np.array()\n",
    "tab_three"
   ]
  },
  {
   "cell_type": "markdown",
   "id": "b496b6c0",
   "metadata": {},
   "source": [
    "### What has changed\n",
    "\n",
    "The fundamental difference between Lists and Numpy Arrays is the data type of the elements they hold.\n",
    "\n",
    "- A list can contain any type of data without enforcing homogeneity among its elements.\n",
    "- An array contains only one data type.\n"
   ]
  },
  {
   "cell_type": "code",
   "execution_count": 6,
   "id": "ad4c16cb",
   "metadata": {},
   "outputs": [],
   "source": [
    "valid_list = [2, \"hello\", \"world\", 42]\n",
    "\n",
    "# np.array(valid_list)"
   ]
  },
  {
   "cell_type": "markdown",
   "id": "68e700ce",
   "metadata": {},
   "source": [
    "## A Limitation or a Feature?\n",
    "\n",
    "The fact that the array behaves this way may seem like a limitation, but the reality is that Python aims to make life easier for the programmer, often at the expense of performance, making certain types of operations harder (for the machine) to execute.\n",
    "\n",
    "We should think of an array as a sequence of identical elements lined up one after another, whereas a list is a hodgepodge of scattered elements. Some elements can be very large, others very small, and we can locate them only because each element tells us where to find the next one—it's almost like a treasure hunt!\n"
   ]
  },
  {
   "cell_type": "markdown",
   "id": "661c280b",
   "metadata": {},
   "source": [
    "<img src=\"arrayVSlists.jpg\">"
   ]
  },
  {
   "cell_type": "markdown",
   "id": "997be626",
   "metadata": {},
   "source": [
    "## Numbers, But What Kind?\n",
    "\n",
    "Data types in Numpy are primarily designed to handle and manipulate numbers of various sizes.  \n",
    "The NumPy Documentation can help us better understand the available data types and how to use them:\n",
    "- [Data Types](https://numpy.org/doc/stable/user/basics.types.html)\n",
    "\n",
    "Having all data of the same type allows for better memory management and leads to significant performance benefits, especially when working with large datasets.\n"
   ]
  },
  {
   "cell_type": "code",
   "execution_count": null,
   "id": "ccbb22c4",
   "metadata": {},
   "outputs": [],
   "source": [
    "# np.array([\"a\", \"e\", \"i\", \"o\", \"u\"])"
   ]
  },
  {
   "cell_type": "code",
   "execution_count": 12,
   "id": "79acf2ea",
   "metadata": {},
   "outputs": [],
   "source": [
    "my_list = [\"helloW\", \"world\", \"a\", \"b\"]\n",
    "\n",
    "\n",
    "my_array1 = np.array(my_list)\n",
    "my_array2 = np.array([2,3,4,5,6])"
   ]
  },
  {
   "cell_type": "markdown",
   "id": "bb2d0997",
   "metadata": {},
   "source": [
    "**dtype** allow us to understand the data type of the array"
   ]
  },
  {
   "cell_type": "code",
   "execution_count": 13,
   "id": "0aa48f22",
   "metadata": {},
   "outputs": [
    {
     "data": {
      "text/plain": [
       "dtype('int64')"
      ]
     },
     "execution_count": 13,
     "metadata": {},
     "output_type": "execute_result"
    }
   ],
   "source": [
    "# my_array1.dtype\n",
    "# my_array2.dtype"
   ]
  },
  {
   "cell_type": "code",
   "execution_count": 10,
   "id": "2b1a7bd2",
   "metadata": {},
   "outputs": [],
   "source": [
    "# what happend with numbers as a string?\n",
    "# [\"1\",\"3\",\"5\",\"7\",\"9\",\"11\",\"13\"]\n",
    "\n"
   ]
  },
  {
   "cell_type": "markdown",
   "id": "6ec2be9c",
   "metadata": {},
   "source": [
    "with **astype()** we can change (or try to) the data type of the elements in the array "
   ]
  },
  {
   "cell_type": "markdown",
   "id": "58bcaea2",
   "metadata": {},
   "source": [
    "## Operations\n",
    "\n",
    "Another major difference is that arrays can be treated as a block of numbers and used directly for mathematical operations.\n",
    "\n",
    "## **TO DO**:\n",
    "Multiply all values in the **list** a number. *To do this on a list, a loop is required.*\n",
    "1. create a list of number from 1 to 100 \n",
    "2. using a loop calculate the product of each number of the list and a factor"
   ]
  },
  {
   "cell_type": "code",
   "execution_count": 11,
   "id": "97c51439",
   "metadata": {},
   "outputs": [],
   "source": [
    "num_list = []\n",
    "factor = 4 \n"
   ]
  },
  {
   "cell_type": "markdown",
   "id": "b66f9a19",
   "metadata": {},
   "source": [
    "Now using array:\n",
    "\n",
    "1. create the array startin from the list \n",
    "2. use the * between the array and the factor\n"
   ]
  },
  {
   "cell_type": "code",
   "execution_count": 6,
   "id": "e07d3459",
   "metadata": {},
   "outputs": [],
   "source": []
  },
  {
   "cell_type": "markdown",
   "id": "1b457637",
   "metadata": {},
   "source": [
    "### Why we use array \n",
    "\n",
    "One answer could be the ability to handle large chunck of data very fast. Let see how fast."
   ]
  },
  {
   "cell_type": "code",
   "execution_count": 8,
   "id": "728f7b29",
   "metadata": {},
   "outputs": [],
   "source": [
    "#Creating 2 object, one list and one array each with a million element inside\n",
    "test_list = list(range(1_000_0000))\n",
    "test_arr = np.arange(1_000_000)\n",
    "# test_list, test_arr"
   ]
  },
  {
   "cell_type": "code",
   "execution_count": 9,
   "id": "06bcc538",
   "metadata": {},
   "outputs": [
    {
     "name": "stdout",
     "output_type": "stream",
     "text": [
      "820 ms ± 55.4 ms per loop (mean ± std. dev. of 7 runs, 1 loop each)\n",
      "1.48 ms ± 26.1 µs per loop (mean ± std. dev. of 7 runs, 1,000 loops each)\n"
     ]
    }
   ],
   "source": [
    "%timeit operation_on_list = [3 * n for n in test_list] \n",
    "%timeit operation_on_arr = test_arr * 3"
   ]
  },
  {
   "cell_type": "markdown",
   "id": "49267821",
   "metadata": {},
   "source": [
    "## [Broadcasting](https://numpy.org/doc/stable/user/basics.broadcasting.html)\n",
    "\n",
    "The operation we performed earlier to multiply an array by an integer can be generalized. In fact, we can think of the integer as a one-dimensional array.\n",
    "\n",
    "This leads us to conclude that, to perform operations on arrays, they do not necessarily need to have the same size and shape.\n"
   ]
  },
  {
   "cell_type": "code",
   "execution_count": 15,
   "id": "7fe796be",
   "metadata": {},
   "outputs": [
    {
     "data": {
      "text/plain": [
       "((2, 4), (3,))"
      ]
     },
     "execution_count": 15,
     "metadata": {},
     "output_type": "execute_result"
    }
   ],
   "source": [
    "a = np.array([[0.0, 10.0, 20.0, 30.0], [40.0, 50.0, 60.0, 70.0]])\n",
    "b = np.array([1.,2.,3.])\n",
    "# a + b \n",
    "a.shape, b.shape"
   ]
  },
  {
   "cell_type": "markdown",
   "id": "1c11d9b9",
   "metadata": {},
   "source": [
    "However, they must still meet certain constraints regarding their form, known as their **shape**.\n",
    "\n",
    "For example, if we want to add or multiply arrays of different sizes, the smaller array needs to be \"broadcasted\" across the larger one. Broadcasting is a technique that NumPy uses to allow operations between arrays of different shapes, under specific conditions. \n",
    "\n",
    "The shape constraints ensure that NumPy knows how to align the elements of each array for operations. Typically, the dimensions must be compatible, which means either they are the same, or one of them is 1 so it can be stretched or repeated across the larger dimension. This flexibility allows for efficient array manipulations and simplifies the code, as we can work directly with arrays of different sizes without needing complex loops or extra transformations.\n"
   ]
  },
  {
   "cell_type": "markdown",
   "id": "652906a4",
   "metadata": {},
   "source": [
    "**Using Broadcast** and the `+` operator, find 2 array that sum together gives us this configuration:\n",
    "\n",
    "| 0      | 1     | 2      | 3     | 4      | 5     |\n",
    "|--------|-------|--------|-------|--------|-------|\n",
    "| 1      | 2     | 3      | 4     | 5      | 6     |\n",
    "| 2      | 3     | 4      | 5     | 6      | 7     |\n",
    "| 3      | 4     | 5      | 6     | 7      | 8     |\n",
    "| 4      | 5     | 6      | 7     | 8      | 9     |\n",
    "| 5      | 6     | 7      | 8     | 9      | 10    |"
   ]
  },
  {
   "cell_type": "code",
   "execution_count": null,
   "id": "3e82b83e",
   "metadata": {},
   "outputs": [],
   "source": []
  },
  {
   "cell_type": "markdown",
   "id": "d4eceb7c",
   "metadata": {},
   "source": [
    "## shape\n",
    "\n",
    "The `shape` attribute is used to return the dimensions of an array. The `shape` attribute returns a tuple representing the number of elements along each dimension of the array.  \n",
    "The first number represents the rows, and the second represents the columns.\n",
    "\n",
    "To perform operations between two arrays, the number of columns in the first array must be equal to the number of rows in the second, or they must have the same shape.\n",
    "\n"
   ]
  },
  {
   "cell_type": "code",
   "execution_count": 35,
   "id": "d2e2fae3",
   "metadata": {},
   "outputs": [
    {
     "data": {
      "text/plain": [
       "(1, 4)"
      ]
     },
     "execution_count": 35,
     "metadata": {},
     "output_type": "execute_result"
    }
   ],
   "source": [
    "c = np.array([0., 0.])\n",
    "c.shape\n",
    "b.shape\n",
    "# a + c \n",
    "d = np.array([3.,4.,5.,6.])\n",
    "d.shape\n"
   ]
  },
  {
   "cell_type": "markdown",
   "id": "8bbb3ee2",
   "metadata": {},
   "source": [
    "## The Shape Can Change\n",
    "\n",
    "The `reshape()` method in NumPy is used to change the shape of an array without altering its data. It allows you to resize the array to fit a new specified shape, as long as the total number of elements remains unchanged.\n",
    "\n",
    "Transform the array: `[ 0  1  2  3  4  5  6  7  8  9 10 11]` into an array with 3 rows and 4 columns.\n"
   ]
  },
  {
   "cell_type": "code",
   "execution_count": 15,
   "id": "bdd540c9",
   "metadata": {},
   "outputs": [],
   "source": [
    "# make this row array a 3 row, 4 column array\n",
    "my_array = np.array([ 0 , 1,  2,  3,  4,  5,  6,  7,  8,  9, 10, 11])\n"
   ]
  },
  {
   "cell_type": "markdown",
   "id": "05778804",
   "metadata": {},
   "source": [
    "# Transposition\n",
    "\n",
    "Sometimes it is necessary to flip arrays, turning rows into columns.\n",
    "\n",
    "This operation is called transposition.\n"
   ]
  },
  {
   "cell_type": "code",
   "execution_count": 16,
   "id": "acd65c1c",
   "metadata": {},
   "outputs": [],
   "source": [
    "# on the array above try transposition"
   ]
  },
  {
   "cell_type": "markdown",
   "id": "352a18af",
   "metadata": {},
   "source": [
    "What is now the shape of the array?"
   ]
  },
  {
   "cell_type": "markdown",
   "id": "656bd0f2",
   "metadata": {},
   "source": [
    "### "
   ]
  },
  {
   "cell_type": "code",
   "execution_count": 17,
   "id": "ac0d2c7b",
   "metadata": {},
   "outputs": [
    {
     "data": {
      "text/plain": [
       "4"
      ]
     },
     "execution_count": 17,
     "metadata": {},
     "output_type": "execute_result"
    }
   ],
   "source": [
    "# Multidimensional Array \n",
    "\n",
    "array1D = np.array([1, 2, 3, 4, 5])  # mono dimensional Array\n",
    "array2D = np.array([[1, 2, 3], [4, 5, 6]])  # bidimensional Array\n",
    "array3D = np.array([[\n",
    "\n",
    "    [\n",
    "        [1, 2], \n",
    "        [3, 4]\n",
    "    ], \n",
    "    [\n",
    "        [5, 6], \n",
    "        [7, 8]\n",
    "    ], \n",
    "    [\n",
    "        [9, 10],\n",
    "        [11, 12]\n",
    "    ]]])  # Tridimensional Array\n",
    "array4D = np.array([[[[1, 2], [3, 4]], [[5, 6], [7, 8]]], [[[9, 10], [11, 12]], [[13, 14], [15, 16]]]])"
   ]
  },
  {
   "cell_type": "markdown",
   "id": "8ff92bb7",
   "metadata": {},
   "source": [
    "## Creating Arrays\n",
    "\n",
    "For now, we have created arrays ourselves, but NumPy provides methods to create arrays more directly.\n",
    "\n",
    "### arange()\n",
    "\n",
    "To create an array in NumPy using the `arange()` function, you can specify a range of values and a step (increment) between the values. The basic syntax is as follows:\n",
    "\n",
    "Creating an array with `arange`:\n",
    "\n",
    "`array = np.arange(start, stop, step)`\n",
    "\n",
    "Where:\n",
    "\n",
    "- **start**: the starting value of the range (inclusive).\n",
    "- **stop**: the final value of the range (exclusive).\n",
    "- **step**: the increment between values.\n",
    "\n",
    "If you do not specify `start`, the default value is 0. If you do not specify `step`, the default value is 1.\n",
    "\n"
   ]
  },
  {
   "cell_type": "code",
   "execution_count": null,
   "id": "81839e0f",
   "metadata": {},
   "outputs": [],
   "source": [
    "# Create an array of values from 0 to 9\n",
    "\n",
    "# Create an array of values from 5 to 14\n",
    "\n",
    "# Create an array of even values from 0 to 10\n",
    "\n",
    "# Create an array of values from 10 to 1 (in descending order)\n"
   ]
  },
  {
   "cell_type": "code",
   "execution_count": 19,
   "id": "31587a6e",
   "metadata": {},
   "outputs": [
    {
     "data": {
      "text/plain": [
       "array([ 0,  1,  2,  3,  4,  5,  6,  7,  8,  9, 10, 11])"
      ]
     },
     "execution_count": 19,
     "metadata": {},
     "output_type": "execute_result"
    }
   ],
   "source": [
    "# Crea un array dei multipli di 10 tra le prime 9 cifre (escluso lo zero) e disponi l'array su 5 righe e 2 colonne\n",
    "# my_array = \n",
    "my_array"
   ]
  },
  {
   "cell_type": "markdown",
   "id": "9548d50a",
   "metadata": {},
   "source": [
    "### Values in a Range\n",
    "\n",
    "`linspace()` is used to create an array of evenly spaced values within a specified range. The basic syntax of `linspace()` is as follows:\n",
    "\n",
    "`array = np.linspace(start, stop, num)`\n",
    "\n",
    "Where:\n",
    "\n",
    "- **start**: the starting value of the range.\n",
    "- **stop**: the final value of the range.\n",
    "- **num**: the number of samples to generate between `start` and `stop`. This value indicates how many elements the array will have.\n",
    "\n",
    "The main difference between `arange()` and `linspace()` is that `arange()` uses a specific step between values, while `linspace()` automatically determines the step based on the number of requested samples.\n"
   ]
  },
  {
   "cell_type": "code",
   "execution_count": null,
   "id": "2d5bd05f",
   "metadata": {},
   "outputs": [],
   "source": [
    "# Create an array of 5 evenly spaced values from 0 to 10\n",
    "\n",
    "# Create an array of 10 evenly spaced values from 0 to 1\n",
    "\n",
    "# Create an array of 20 evenly spaced values from -1 to 1\n",
    "\n"
   ]
  },
  {
   "cell_type": "code",
   "execution_count": 29,
   "id": "1d15630f",
   "metadata": {},
   "outputs": [],
   "source": [
    "import matplotlib.pyplot as plt\n",
    "# linspace is pretty useful to generate graph axis\n",
    "# let's generate a graph of the sin(x) function\n",
    "\n",
    "# Generate evenly spaced x values using linspace\n",
    "\n",
    "# x =  # 100 value from 0 to 10\n",
    "\n",
    "# Let's calculate the corresponding y values\n",
    "# y = \n",
    "\n",
    "# draw the plot\n",
    "# plt.plot(x, y)\n",
    "# plt.title('sin function')\n",
    "# plt.xlabel('x')\n",
    "# plt.ylabel('sin(x)')\n",
    "# plt.grid(True)\n",
    "# plt.show()\n",
    "#"
   ]
  },
  {
   "cell_type": "markdown",
   "id": "e0849aa4",
   "metadata": {},
   "source": [
    "### Random Numbers\n",
    "\n",
    "The function `numpy.random.rand()` is used to generate random values uniformly distributed between 0 and 1.\n",
    "\n",
    "You can specify the dimensions of the array you want to generate by passing arguments to the function. Here’s an example:\n"
   ]
  },
  {
   "cell_type": "code",
   "execution_count": 24,
   "id": "2abeb293",
   "metadata": {},
   "outputs": [
    {
     "name": "stdout",
     "output_type": "stream",
     "text": [
      "Random number array: \n",
      "[0.37454012 0.95071431 0.73199394 0.59865848 0.15601864]\n"
     ]
    }
   ],
   "source": [
    "# Create an array from random numbers\n",
    "np.random.seed(42)\n",
    "array_rnd = np.random.rand(5)  # the argument is the shape of the generated array\n",
    "print(\"Random number array: \")\n",
    "print(array_rnd)"
   ]
  },
  {
   "cell_type": "markdown",
   "id": "fd09787b",
   "metadata": {},
   "source": [
    "To generate random integers, you can use the function `numpy.random.randint()`. This function generates random integers within a specified range.\n",
    "\n",
    "Example:\n"
   ]
  },
  {
   "cell_type": "code",
   "execution_count": 26,
   "id": "30e50ef1",
   "metadata": {},
   "outputs": [
    {
     "name": "stdout",
     "output_type": "stream",
     "text": [
      "Random integers\n",
      "[2 8 6 2 5]\n"
     ]
    }
   ],
   "source": [
    "array_randint = np.random.randint(1, 11, size=5)  # 5 random integers between 1 and 10\n",
    "print(\"Random integers\")\n",
    "print(array_randint)"
   ]
  },
  {
   "cell_type": "code",
   "execution_count": 36,
   "id": "ed3ff987",
   "metadata": {},
   "outputs": [
    {
     "data": {
      "text/plain": [
       "''"
      ]
     },
     "execution_count": 36,
     "metadata": {},
     "output_type": "execute_result"
    }
   ],
   "source": [
    "# Generate a random array of integers between 1 and 100 for 1000 values, then reshape it into a 3 by 3\n",
    "rand_arr = ''\n",
    "rand_arr"
   ]
  },
  {
   "cell_type": "markdown",
   "id": "62f33115",
   "metadata": {},
   "source": [
    "## Random Numbers from a Distribution\n",
    "\n",
    "We can generate random numbers that follows a particular law, for exemple random number taken from a normal distribution "
   ]
  },
  {
   "cell_type": "code",
   "execution_count": 30,
   "id": "c4d2db46",
   "metadata": {},
   "outputs": [
    {
     "data": {
      "text/plain": [
       "array([ 0.55008647, -1.15577476,  1.15768782, -0.90299533,  0.89018446,\n",
       "        0.44465443, -0.8718596 , -0.28021882, -1.09660795, -1.60379216])"
      ]
     },
     "execution_count": 30,
     "metadata": {},
     "output_type": "execute_result"
    }
   ],
   "source": [
    "np.random.normal(0, 1, 10)"
   ]
  },
  {
   "cell_type": "markdown",
   "id": "3c4a98ce",
   "metadata": {},
   "source": [
    "**Let's Try** to generate random array of value from a normal distribution and plot the data. What happend if the sample will grow?"
   ]
  },
  {
   "cell_type": "markdown",
   "id": "6927e8b0",
   "metadata": {},
   "source": [
    "# Array Slicing\n",
    "\n",
    "It is a powerful way to extract portions of an array based on certain criteria. With slicing, you can select a subset of elements from an array according to their position along one or more axes.\n",
    "\n",
    "Slicing NumPy arrays is done by specifying a sequence of indices or ranges separated by commas within square brackets. The indices or ranges indicate which elements of the array will be included in the selection.\n",
    "- `array[1:4]` selects the elements from index 1 to index 3 (the final index is excluded).\n",
    "- `array[::2]` selects every second element of the array.\n",
    "- `matrix[:, 0]` selects all elements from the first column of the matrix.\n",
    "- `matrix[1:, :2]` selects a rectangular portion of the matrix, including all rows from the second one onward and only the first two columns.\n"
   ]
  },
  {
   "cell_type": "code",
   "execution_count": null,
   "id": "62a4e208",
   "metadata": {},
   "outputs": [],
   "source": [
    "#first two rows all columns"
   ]
  },
  {
   "cell_type": "code",
   "execution_count": 62,
   "id": "8f9e9acf",
   "metadata": {
    "scrolled": true
   },
   "outputs": [],
   "source": [
    "#first one column"
   ]
  },
  {
   "cell_type": "code",
   "execution_count": 63,
   "id": "87fa83f7",
   "metadata": {},
   "outputs": [],
   "source": [
    "#row3rd 2nd element"
   ]
  },
  {
   "cell_type": "markdown",
   "id": "30400903",
   "metadata": {},
   "source": [
    "# Filtering array\n",
    "\n",
    "We can use boolean algebra directly on array"
   ]
  },
  {
   "cell_type": "code",
   "execution_count": 31,
   "id": "c144c432",
   "metadata": {},
   "outputs": [
    {
     "name": "stdout",
     "output_type": "stream",
     "text": [
      "Product names: ['Prod_1' 'Prod_2' 'Prod_3' 'Prod_4' 'Prod_5']\n",
      "Product prices: [10.99 19.99  5.49  7.95 12.5 ]\n"
     ]
    }
   ],
   "source": [
    "# Array with the names of the products\n",
    "prod_names = np.array([\"Prod_1\", \"Prod_2\", \"Prod_3\", \"Prod_4\", \"Prod_5\"])\n",
    "\n",
    "# Array with the prices of the products\n",
    "prod_prices = np.array([10.99, 19.99, 5.49, 7.95, 12.50])\n",
    "\n",
    "# Print the two arrays\n",
    "print(\"Product names:\", prod_names)\n",
    "print(\"Product prices:\", prod_prices)\n"
   ]
  },
  {
   "cell_type": "code",
   "execution_count": 32,
   "id": "ba1b077b",
   "metadata": {},
   "outputs": [
    {
     "data": {
      "text/plain": [
       "array([False, False,  True,  True, False])"
      ]
     },
     "execution_count": 32,
     "metadata": {},
     "output_type": "execute_result"
    }
   ],
   "source": [
    "cond_min10 = prod_prices <= 10\n",
    "cond_min10"
   ]
  },
  {
   "cell_type": "markdown",
   "id": "3c92604c",
   "metadata": {},
   "source": [
    "applicando l'array booleano a un array con i dati otterrò l'array filtrato"
   ]
  },
  {
   "cell_type": "code",
   "execution_count": 41,
   "id": "b35b048d",
   "metadata": {},
   "outputs": [
    {
     "data": {
      "text/plain": [
       "array([5.49, 7.95])"
      ]
     },
     "execution_count": 41,
     "metadata": {},
     "output_type": "execute_result"
    }
   ],
   "source": [
    "prod_prices[cond_min10]"
   ]
  },
  {
   "cell_type": "code",
   "execution_count": 42,
   "id": "4002705c",
   "metadata": {},
   "outputs": [],
   "source": [
    "# trovare nell'array rand_arr i tutti i valori > 90"
   ]
  },
  {
   "cell_type": "markdown",
   "id": "44ce04ed",
   "metadata": {},
   "source": [
    "# Sorting"
   ]
  },
  {
   "cell_type": "code",
   "execution_count": 45,
   "id": "f97f4598",
   "metadata": {},
   "outputs": [],
   "source": [
    "prices = np.array([5.99, 6.99, 22.49, 99.99, 4.99, 49.99])\n",
    "prices.sort()"
   ]
  },
  {
   "cell_type": "code",
   "execution_count": 50,
   "id": "c462eeef",
   "metadata": {},
   "outputs": [
    {
     "data": {
      "text/plain": [
       "array([ 4.99,  5.99,  6.99, 22.49, 49.99, 99.99])"
      ]
     },
     "execution_count": 50,
     "metadata": {},
     "output_type": "execute_result"
    }
   ],
   "source": [
    "prices"
   ]
  },
  {
   "cell_type": "code",
   "execution_count": 43,
   "id": "4a0b5694",
   "metadata": {},
   "outputs": [],
   "source": [
    "# find the three higest prices"
   ]
  },
  {
   "cell_type": "markdown",
   "id": "c0c34d73",
   "metadata": {},
   "source": [
    "## Where \n",
    "\n",
    "Anther way to apply a condition to an array is the `where()` method. The syntax is\n",
    "    where(`boolean condition`, `value if true`, `value if false`)"
   ]
  },
  {
   "cell_type": "code",
   "execution_count": 51,
   "id": "a006a64f",
   "metadata": {},
   "outputs": [
    {
     "data": {
      "text/plain": [
       "31.74"
      ]
     },
     "execution_count": 51,
     "metadata": {},
     "output_type": "execute_result"
    }
   ],
   "source": [
    "# find the price that are haiger than the mean\n",
    "prices.mean()\n",
    "# np.where()"
   ]
  },
  {
   "cell_type": "markdown",
   "id": "0cb443ab",
   "metadata": {},
   "source": [
    "#### Check Please\n",
    "\n",
    "Calculate the check for the 2 table, try to use all the functionality seen for the array. \n",
    "\n",
    "The menu array contains the info about type of food and its price, the order array has 1 on the food ordered by a client, each row rapresent a client.\n",
    "\n",
    "You can use `array.sum()` to calculate the sum of the elements inside an array.\n",
    "\n",
    "- Create a new array in which each line will show a name of food, its price and a final row with total "
   ]
  },
  {
   "cell_type": "code",
   "execution_count": 100,
   "id": "3b667cc1",
   "metadata": {},
   "outputs": [
    {
     "data": {
      "text/plain": [
       "array([['beef', 'pasta', 'hamburger', 'salad', 'cake'],\n",
       "       ['21.0', '13.5', '15.3', '7.0', '6.4']], dtype='<U32')"
      ]
     },
     "execution_count": 100,
     "metadata": {},
     "output_type": "execute_result"
    }
   ],
   "source": [
    "# array menu\n",
    "menu_item = np.array([\"beef\", \"pasta\", \"hamburger\", \"salad\", \"cake\"])\n",
    "menu_price = np.array([21.0, 13.5, 15.3, 7., 6.4])\n",
    "## The menu\n",
    "menu = np.vstack((menu_item, menu_price))\n",
    "menu"
   ]
  },
  {
   "cell_type": "code",
   "execution_count": 101,
   "id": "db62c2cd",
   "metadata": {},
   "outputs": [
    {
     "data": {
      "text/plain": [
       "array([[1, 0, 1, 1, 0],\n",
       "       [1, 1, 1, 0, 1],\n",
       "       [0, 1, 1, 1, 0]])"
      ]
     },
     "execution_count": 101,
     "metadata": {},
     "output_type": "execute_result"
    }
   ],
   "source": [
    "# Orders of 3 clients \n",
    "orders = np.random.randint(0, 2, size=(3,5))\n",
    "orders"
   ]
  },
  {
   "cell_type": "code",
   "execution_count": null,
   "id": "dd10eb5a",
   "metadata": {},
   "outputs": [],
   "source": []
  }
 ],
 "metadata": {
  "kernelspec": {
   "display_name": "Python 3",
   "language": "python",
   "name": "python3"
  },
  "language_info": {
   "codemirror_mode": {
    "name": "ipython",
    "version": 3
   },
   "file_extension": ".py",
   "mimetype": "text/x-python",
   "name": "python",
   "nbconvert_exporter": "python",
   "pygments_lexer": "ipython3",
   "version": "3.10.12"
  }
 },
 "nbformat": 4,
 "nbformat_minor": 5
}
