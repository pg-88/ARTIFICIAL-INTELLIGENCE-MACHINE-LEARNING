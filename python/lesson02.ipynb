{
 "cells": [
  {
   "cell_type": "markdown",
   "metadata": {},
   "source": [
    "## From Text to Data\n",
    "\n",
    "Extract information from the text to create a data structure that can be used in the code.\n",
    "\n",
    "\n",
    "### Individual Data:\n",
    "\n",
    "- **Name**: Rossi Amerigo  \n",
    "  **Gender**: Male  \n",
    "  **Age**: 32  \n",
    "  **Height**: 172 cm  \n",
    "  **Weight**: 64 kg  \n",
    "  **Systolic BP (PAS)**: 140 mm Hg  \n",
    "  **Blood Glucose (Glicemia)**: 190 mg/dl  \n",
    "\n",
    "- **Name**: Bianchi Paolo  \n",
    "  **Gender**: Male  \n",
    "  **Age**: 47  \n",
    "  **Height**: 170 cm  \n",
    "  **Weight**: 80 kg  \n",
    "  **Systolic BP (PAS)**: 148 mm Hg  \n",
    "  **Blood Glucose (Glicemia)**: 180 mg/dl  \n",
    "\n",
    "- **Name**: Valenzi Alberica  \n",
    "  **Gender**: Female  \n",
    "  **Age**: 45  \n",
    "  **Height**: 168 cm  \n",
    "  **Weight**: 51 kg  \n",
    "  **Systolic BP (PAS)**: 125 mm Hg  \n",
    "  **Blood Glucose (Glicemia)**: 150 mg/dl  \n",
    "\n",
    "- **Name**: Alinori Alfonso   \n",
    "  **Gender**: Male  \n",
    "  **Age**: 27  \n",
    "  **Height**: 183 cm  \n",
    "  **Weight**: 85 kg  \n",
    "  **Systolic BP (PAS)**: 138 mm Hg  \n",
    "  **Blood Glucose (Glicemia)**: 170 mg/dl  \n"
   ]
  },
  {
   "cell_type": "code",
   "execution_count": 4,
   "metadata": {},
   "outputs": [
    {
     "data": {
      "text/html": [
       "<div>\n",
       "<style scoped>\n",
       "    .dataframe tbody tr th:only-of-type {\n",
       "        vertical-align: middle;\n",
       "    }\n",
       "\n",
       "    .dataframe tbody tr th {\n",
       "        vertical-align: top;\n",
       "    }\n",
       "\n",
       "    .dataframe thead th {\n",
       "        text-align: right;\n",
       "    }\n",
       "</style>\n",
       "<table border=\"1\" class=\"dataframe\">\n",
       "  <thead>\n",
       "    <tr style=\"text-align: right;\">\n",
       "      <th></th>\n",
       "      <th>0</th>\n",
       "      <th>1</th>\n",
       "    </tr>\n",
       "  </thead>\n",
       "  <tbody>\n",
       "    <tr>\n",
       "      <th>0</th>\n",
       "      <td>Rossi Amerigo</td>\n",
       "      <td>32</td>\n",
       "    </tr>\n",
       "    <tr>\n",
       "      <th>1</th>\n",
       "      <td>Bianchi Paolo</td>\n",
       "      <td>47</td>\n",
       "    </tr>\n",
       "    <tr>\n",
       "      <th>2</th>\n",
       "      <td>Valenzi Alberica</td>\n",
       "      <td>45</td>\n",
       "    </tr>\n",
       "    <tr>\n",
       "      <th>3</th>\n",
       "      <td>Alinori Alfonso</td>\n",
       "      <td>27</td>\n",
       "    </tr>\n",
       "  </tbody>\n",
       "</table>\n",
       "</div>"
      ],
      "text/plain": [
       "                  0   1\n",
       "0     Rossi Amerigo  32\n",
       "1     Bianchi Paolo  47\n",
       "2  Valenzi Alberica  45\n",
       "3   Alinori Alfonso  27"
      ]
     },
     "execution_count": 4,
     "metadata": {},
     "output_type": "execute_result"
    }
   ],
   "source": [
    "import pandas as pd\n",
    "\n",
    "# Create a dictionary with the structured data\n",
    "data = {\n",
    "    \"Name\": [\"Rossi Amerigo\", \"Bianchi Paolo\", \"Valenzi Alberica\", \"Alinori Alfonso\"],\n",
    "    \"Gender\": [\"Male\", \"Male\", \"Female\", \"Male\"],\n",
    "    \"Age\": [32, 47, 45, 27],\n",
    "    \"Height (cm)\": [172, 170, 168, 183],\n",
    "    \"Weight (kg)\": [64, 80, 51, 85],\n",
    "    \"Systolic BP (mm Hg)\": [140, 148, 125, 138],\n",
    "    \"Blood Glucose (mg/dl)\": [190, 180, 150, 170]\n",
    "}\n",
    "\n",
    "# Create a DataFrame using the dictionary\n",
    "df = pd.DataFrame(data)\n",
    "\n",
    "# Display the DataFrame\n",
    "df\n",
    "## try to create the dataframe using lists\n",
    "pd.DataFrame([[\"Rossi Amerigo\", 32,], [\"Bianchi Paolo\", 47], [\"Valenzi Alberica\", 45], [\"Alinori Alfonso\", 27]])"
   ]
  },
  {
   "cell_type": "markdown",
   "metadata": {},
   "source": [
    "## Frequency \n",
    "\n",
    "**Analyzing the Frequency of Heights of Individuals**  \n",
    "\n",
    "\n",
    "You are given a dataset of heights of 100 individuals. Your task is to analyze the frequency of heights and categorize them into groups (e.g., \"Short\", \"Average\", \"Tall\"). Afterward, compute the frequency of each height group.\n",
    "Data Sample:\n",
    "\n",
    "Here is a sample dataset of heights (in centimeters) of individuals:"
   ]
  },
  {
   "cell_type": "code",
   "execution_count": 5,
   "metadata": {},
   "outputs": [
    {
     "name": "stdout",
     "output_type": "stream",
     "text": [
      "Descriptive Statistics\n",
      "           Height\n",
      "count  100.000000\n",
      "mean   171.050000\n",
      "std     10.667022\n",
      "min    155.000000\n",
      "25%    160.000000\n",
      "50%    170.000000\n",
      "75%    180.000000\n",
      "max    190.000000\n",
      "\n",
      "Frequency of each category:\n",
      "Average    46\n",
      "Tall       43\n",
      "Short      11\n",
      "Name: Category, dtype: int64\n"
     ]
    },
    {
     "data": {
      "image/png": "[encoded data removed]",
      "text/plain": [
       "<Figure size 800x600 with 1 Axes>"
      ]
     },
     "metadata": {},
     "output_type": "display_data"
    }
   ],
   "source": [
    "import pandas as pd\n",
    "import numpy as np\n",
    "import matplotlib.pyplot as plt \n",
    "\n",
    "# Sample dataset of heights (in cm)\n",
    "heights = [155, 160, 175, 165, 170, 180, 155, 160, 155, 190, 185, 160, 165, 170, 175, 155, 160, 170, 185, 180,\n",
    "           170, 160, 170, 175, 155, 190, 180, 185, 175, 170, 160, 160, 155, 175, 180, 185, 165, 190, 170, 160,\n",
    "           175, 170, 155, 160, 180, 170, 165, 185, 160, 175, 170, 180, 190, 185, 175, 160, 170, 160, 155, 185,\n",
    "           175, 170, 165, 180, 190, 170, 155, 160, 170, 180, 190, 175, 155, 160, 170, 175, 160, 180, 165, 170,\n",
    "           185, 160, 175, 170, 160, 180, 170, 165, 155, 185, 190, 170, 160, 175, 165, 170, 180, 175, 185, 190]\n",
    "# Create a pandas DataFrame\n",
    "df = pd.DataFrame(heights, columns=['Height'])\n",
    "\n",
    "# Step 2: Descriptive Statistics\n",
    "print(\"Descriptive Statistics\")\n",
    "print(df.describe())\n",
    "\n",
    "# Step 3: Create Height Categories\n",
    "bins = [0, 160, 175, 200]\n",
    "labels = [\"Short\", \"Average\", \"Tall\"]\n",
    "df['Category'] = pd.cut(df['Height'], bins=bins, labels=labels, right=False)\n",
    "\n",
    "# Step 4: Calculate Frequencies\n",
    "frequency = df['Category'].value_counts()\n",
    "print(\"\\nFrequency of each category:\")\n",
    "print(frequency)\n",
    "\n",
    "# Step 5: Plot the frequencies\n",
    "plt.figure(figsize=(8, 6))\n",
    "frequency.plot(kind='bar', color=['skyblue', 'lightgreen', 'lightcoral'])\n",
    "plt.title('Frequency of Height Categories')\n",
    "plt.xlabel('Height Categories')\n",
    "plt.ylabel('Frequency')\n",
    "plt.xticks(rotation=0)\n",
    "plt.show()\n"
   ]
  },
  {
   "cell_type": "markdown",
   "metadata": {},
   "source": [
    "## Central Tendencies\n",
    "\n",
    "Given a list of height of people, let's try to calculate the mean, weighted mean, and median\n"
   ]
  },
  {
   "cell_type": "code",
   "execution_count": 6,
   "metadata": {},
   "outputs": [],
   "source": [
    "import numpy as np\n",
    "\n",
    "# Heights of 20 individuals (in cm)\n",
    "heights_list = [155, 160, 175, 165, 170, 180, 155, 160, 155, 190, 185, 160, 165, 170, 175, 155, 160, 170, 185, 180]\n",
    "\n",
    "\n",
    "heights_arr = np.array([155, 160, 175, 165, 170, 180, 155, 160, 155, 190, 185, 160, 165, 170, 175, 155, 160, 170, 185, 180])\n"
   ]
  },
  {
   "cell_type": "markdown",
   "metadata": {},
   "source": [
    "It's possible to take two different approach, using python list or with numPy array\n",
    "Hints: \n",
    "- with list we can take advantage of 2 built-in function of python `sum()` and `len()`\n"
   ]
  },
  {
   "cell_type": "code",
   "execution_count": 7,
   "metadata": {},
   "outputs": [],
   "source": [
    "# mean ="
   ]
  },
  {
   "cell_type": "markdown",
   "metadata": {},
   "source": [
    "Median: \n",
    "The first step to calculate the median is sort the value, once again python has a biuilt-in function, `sorted()` which can help us"
   ]
  },
  {
   "cell_type": "code",
   "execution_count": 8,
   "metadata": {},
   "outputs": [],
   "source": [
    "sorted_heigths = sorted(heights_list)\n"
   ]
  },
  {
   "cell_type": "markdown",
   "metadata": {},
   "source": [
    "And the weighted means: \n",
    "\n",
    "Let's use the weight by age groups, below there is a list of weight which represent the age group of each subject in the original heigth list. \n",
    "Try to calculate the weighted means"
   ]
  },
  {
   "cell_type": "code",
   "execution_count": 9,
   "metadata": {},
   "outputs": [],
   "source": [
    "# Age groups of the 20 individuals (1 = 10-20 years, 2 = 21-40 years, 3 = above 40 years)\n",
    "age_group = [1, 1, 2, 1, 2, 3, 1, 2, 1, 3, 2, 1, 1, 2, 2, 1, 1, 2, 3, 3]\n",
    "\n"
   ]
  },
  {
   "cell_type": "markdown",
   "metadata": {},
   "source": [
    "## Variation\n",
    "\n",
    "In the absence of variability in a population, statistics would not be necessary: a single element or sampling unit would be sufficient to determine everything that needs to be known about a population. It follows, therefore, that when presenting information about a sample, it is not enough to simply provide a measure of the mean; information about variability is also required."
   ]
  },
  {
   "cell_type": "markdown",
   "metadata": {},
   "source": [
    "1. First idea is to use the range.\n",
    "   The range is a measure of variability that indicates the spread between the smallest and largest values in a dataset. It is calculated by subtracting the minimum value from the maximum value:\n",
    "\n",
    "        `Range=Maximum−Minimum\n",
    "         Range=Maximum−Minimum`\n",
    "\n",
    "The range provides a quick sense of the overall spread of the data, but it is sensitive to extreme values (outliers), which can make it less representative of the variability in datasets with outliers.\n"
   ]
  },
  {
   "cell_type": "markdown",
   "metadata": {},
   "source": [
    "To get some more information about the variability, we can refer to the central tendency (mean) and calculate the difference of each value, this is called **Deviation**"
   ]
  },
  {
   "cell_type": "code",
   "execution_count": 10,
   "metadata": {},
   "outputs": [],
   "source": [
    "grades = [18, 22, 25, 28, 21, 27, 26, 24, 29, 30, 20, 23, 26, 27, 28, 22, 19, 24, 30, 25]\n",
    "# Calculate the deviation of these grades from their mean \n"
   ]
  },
  {
   "cell_type": "markdown",
   "metadata": {},
   "source": [
    "This idea is pretty useful but it doesn't give us an idea of the variability of the whole sample.\n",
    "\n",
    "The first thing we could think is to calculate the sum of deviations. "
   ]
  },
  {
   "cell_type": "code",
   "execution_count": null,
   "metadata": {},
   "outputs": [],
   "source": [
    "# sum of the deviations"
   ]
  },
  {
   "cell_type": "markdown",
   "metadata": {},
   "source": [
    "The sum obviously tend to zero. This is logic if we think back to the definition of mean.\n",
    "\n",
    "It's possible to consider the absolute value of the deviations"
   ]
  },
  {
   "cell_type": "code",
   "execution_count": null,
   "metadata": {},
   "outputs": [],
   "source": [
    "# using function abs() calculate sum of deviations"
   ]
  },
  {
   "cell_type": "markdown",
   "metadata": {},
   "source": [
    "A more useful indicator is the sum of squared deviations, because squaring the deviations amplifies the effect of larger deviations.\n",
    "\n",
    "This approach can provide a better indication of the overall variability in the sample if we consider the mean of the squared deviations. This is called **Mean Squared Error**"
   ]
  },
  {
   "cell_type": "code",
   "execution_count": null,
   "metadata": {},
   "outputs": [],
   "source": [
    "# Mean Squared Error"
   ]
  },
  {
   "cell_type": "markdown",
   "metadata": {},
   "source": [
    "The downside of mean squared error is that the dimension of the statistical variable has now change, to get back to the original we can take the square root, doing so we have found the **Standard Deviation**"
   ]
  },
  {
   "cell_type": "code",
   "execution_count": null,
   "metadata": {},
   "outputs": [],
   "source": [
    "# standard deviations"
   ]
  },
  {
   "cell_type": "markdown",
   "metadata": {},
   "source": [
    "### BOX-PLOT \n",
    "\n",
    "When we use median as a measure of central tendency we can use **interquartile range** as a measure of dispersion of our sample.\n",
    "\n",
    "\n",
    "Interquartile range (or interquartile difference, interquartile width, or IQR) is the difference between the third and the first quartile, representing the range of values that contains the 'central' half of the observed values. The interquartile range is a measure of dispersion, indicating how far values are spread out from a central value. It is used in the construction of box plots.\n",
    "\n",
    "This approach is better when the sample is not very large.\n"
   ]
  },
  {
   "cell_type": "code",
   "execution_count": 44,
   "metadata": {},
   "outputs": [],
   "source": [
    "# print a boxplot of the list of grades"
   ]
  },
  {
   "cell_type": "markdown",
   "metadata": {},
   "source": []
  },
  {
   "cell_type": "code",
   "execution_count": null,
   "metadata": {},
   "outputs": [],
   "source": []
  },
  {
   "cell_type": "markdown",
   "metadata": {},
   "source": [
    "## Normal Distribution\n",
    "\n",
    "\n",
    "A testing laboratory has to find out the strenght of a stock of construction grade iron.  \n",
    "To do so, the operator has broken 60 sample of material and this is the internal stress in the material at breaking point (measured in MPa):\n",
    "\n",
    "\n",
    "Sample strengths\n",
    "```python\n",
    "[\n",
    "    409.93428306,397.23471398, 412.95377076, 430.46059713, 395.31693251,\n",
    "    395.31726086, 431.58425631, 415.34869458, 390.61051228, 410.85120087,\n",
    "    390.73164614, 390.68540493, 404.83924543, 361.73439511, 365.50164335,\n",
    "    388.75424942, 379.74337759, 406.28494665, 381.83951849, 371.75392597,\n",
    "    429.31297538, 395.48447399, 401.35056409, 371.50503628, 389.11234551,\n",
    "    402.21845179, 376.98012845, 407.51396037, 387.9872262,  394.166125,\n",
    "    387.96586776, 437.04556369, 399.73005551, 378.84578142, 416.45089824,\n",
    "    375.583127,   404.1772719,  360.80659752, 373.43627902, 403.93722472,\n",
    "    414.7693316,  403.42736562, 397.68703435, 393.97792609, 370.42956019,\n",
    "    385.60311583, 390.78722458, 421.14244452, 406.87236579, 364.73919689,\n",
    "    406.48167939, 392.29835439, 386.46155999, 412.23352578, 420.61999045,\n",
    "    418.62560238, 383.21564954, 393.81575248, 406.62526863, 419.51090254\n",
    "]\n",
    "\n",
    "```\n",
    "\n",
    "\n",
    " Is it possible to make any prediction on the strenght of the material?\n"
   ]
  },
  {
   "cell_type": "code",
   "execution_count": 12,
   "metadata": {},
   "outputs": [
    {
     "name": "stdout",
     "output_type": "stream",
     "text": [
      "Mean of strength 396.9069063381667\n",
      "Median of strength 395.400867425\n",
      "Std_dev of strength 18.018365999150888\n"
     ]
    },
    {
     "data": {
      "text/plain": [
       "<matplotlib.lines.Line2D at 0x70c764379090>"
      ]
     },
     "execution_count": 12,
     "metadata": {},
     "output_type": "execute_result"
    },
    {
     "data": {
      "image/png": "[encoded data removed]",
      "text/plain": [
       "<Figure size 640x480 with 1 Axes>"
      ]
     },
     "metadata": {},
     "output_type": "display_data"
    }
   ],
   "source": [
    "strength = np.array([\n",
    "    409.93428306,397.23471398, 412.95377076, 430.46059713, 395.31693251,\n",
    "    395.31726086, 431.58425631, 415.34869458, 390.61051228, 410.85120087,\n",
    "    390.73164614, 390.68540493, 404.83924543, 361.73439511, 365.50164335,\n",
    "    388.75424942, 379.74337759, 406.28494665, 381.83951849, 371.75392597,\n",
    "    429.31297538, 395.48447399, 401.35056409, 371.50503628, 389.11234551,\n",
    "    402.21845179, 376.98012845, 407.51396037, 387.9872262,  394.166125,\n",
    "    387.96586776, 437.04556369, 399.73005551, 378.84578142, 416.45089824,\n",
    "    375.583127,   404.1772719,  360.80659752, 373.43627902, 403.93722472,\n",
    "    414.7693316,  403.42736562, 397.68703435, 393.97792609, 370.42956019,\n",
    "    385.60311583, 390.78722458, 421.14244452, 406.87236579, 364.73919689,\n",
    "    406.48167939, 392.29835439, 386.46155999, 412.23352578, 420.61999045,\n",
    "    418.62560238, 383.21564954, 393.81575248, 406.62526863, 419.51090254\n",
    "])\n",
    "\n",
    "strength.size\n",
    "mean_strenght = np.mean(strength)\n",
    "print(f\"Mean of strength {mean_strenght}\")\n",
    "median_strength = np.median(strength)\n",
    "print(f\"Median of strength {median_strength}\")\n",
    "std_dev = np.std(strength)\n",
    "print(f\"Std_dev of strength {std_dev}\")\n",
    "\n",
    "\n",
    "plt.figure()\n",
    "plt.hist(strength, bins=25)\n",
    "plt.axvline(mean_strenght, color='red', linestyle='--')\n",
    "plt.axvline(median_strength, color='green', linestyle='--')\n"
   ]
  },
  {
   "cell_type": "markdown",
   "metadata": {},
   "source": [
    "### Gauss Distribution \n",
    "\n",
    "If we increase the number of the sample our data we can see that our histogram tend to approximate a curve.\n",
    "\n",
    "This curve will have a max at the value of the mean, and its width will be related to the standard deviation.\n",
    "\n",
    "![image.png](../Risorse/gauss.png)"
   ]
  },
  {
   "cell_type": "markdown",
   "metadata": {},
   "source": [
    "The Gaussian or normal distribution is a **symmetric distribution**, which means that the values of the mean, mode, and median coincide.\n",
    "\n",
    "Given that the curve approximate the values of frequency of the sample, the area underneath it is the probability of the whole range which is 100% by definition. "
   ]
  },
  {
   "cell_type": "markdown",
   "metadata": {},
   "source": [
    "What is the probability that the strength of a new iron element is between 350 and 450?"
   ]
  },
  {
   "cell_type": "markdown",
   "metadata": {},
   "source": [
    "We can find the **density of probability** as the area under the bell curve. These tools could be found on the library `scipy.stats` in the class `norm`"
   ]
  },
  {
   "cell_type": "code",
   "execution_count": 24,
   "metadata": {},
   "outputs": [
    {
     "data": {
      "text/plain": [
       "<matplotlib.legend.Legend at 0x70c74f82b5e0>"
      ]
     },
     "execution_count": 24,
     "metadata": {},
     "output_type": "execute_result"
    },
    {
     "data": {
      "image/png": "[encoded data removed]",
      "text/plain": [
       "<Figure size 640x480 with 1 Axes>"
      ]
     },
     "metadata": {},
     "output_type": "display_data"
    }
   ],
   "source": [
    "from scipy.stats import norm\n",
    "\n",
    "# locking the axis dimensions in the graph\n",
    "\n",
    "x = np.linspace(mean_strenght - 4*std_dev, mean_strenght + 4*std_dev, 100)\n",
    "y = norm.pdf(x, mean_strenght, std_dev)\n",
    "plt.figure()\n",
    "plt.plot(x, y, color='red', linewidth=2, label=\"Normal Distribution Fit\")\n",
    "\n",
    "## Agrument density=True plot the relative frequency of the sample\n",
    "plt.hist(strength, bins=10, density=True, color='lightgreen', edgecolor='green')\n",
    "plt.axvline(mean_strenght, color='red', linestyle='--', label='Mean')\n",
    "plt.axvline(median_strength, color='green', linestyle='--', label='Median')\n",
    "\n",
    "# add a legend\n",
    "plt.legend()\n",
    "# using norm.cdf try to find the probability "
   ]
  },
  {
   "cell_type": "markdown",
   "metadata": {},
   "source": [
    "The Gaussian or normal distribution can be standardized by subtracting or adding the mean to translate it to 0 and transforming the standard deviation to 1. \n",
    "\n",
    "This is done by reparameterizing the values and can be useful for understanding the nature of this distribution.\n",
    "\n",
    "![standard](../Risorse/standard.png)"
   ]
  },
  {
   "cell_type": "markdown",
   "metadata": {},
   "source": [
    "With this standardization we could make some observation that link the standard deviation with the density of probability\n",
    "\n",
    "![intervals](../Risorse/known_intervals.png)"
   ]
  },
  {
   "cell_type": "markdown",
   "metadata": {},
   "source": [
    "### z-score \n",
    "\n",
    "The Z-score formula is given by:\n",
    "\n",
    "$$ \n",
    "Z = \\frac{X - \\mu}{\\sigma} \n",
    "$$\n",
    "\n",
    "where:\n",
    "\n",
    "- \\( Z \\) is the Z-score,\n",
    "- \\( X \\) is the value from the dataset,\n",
    "- \\( \\mu \\) is the mean of the dataset,\n",
    "- \\( \\sigma \\) is the standard deviation of the dataset.\n",
    "\n",
    "\n",
    "The z score allow us to switch from a standardize distribution to a real one"
   ]
  },
  {
   "cell_type": "markdown",
   "metadata": {},
   "source": [
    "### Exercise\n",
    "\n",
    "A company produces coffee cans, and you want to analyze the weights of these cans to ensure they meet the required standards. Generate a sample of 80 weights for coffee cans such that the weights are centered around 250 grams with minimal variation.\n",
    "\n",
    "1. Calculate the mean, median, and standard deviation of the sample.\n",
    "2. Determine the range of weights that contains 95% of the coffee cans in the sample.\n",
    "\n"
   ]
  },
  {
   "cell_type": "markdown",
   "metadata": {},
   "source": [
    "Weights of the cans of coffe: \n",
    "``` python\n",
    "[252.48357076505616, 249.3086784941441, 253.23844269050346, 257.61514928204014, 248.82923312638331, 248.8293152152541, 257.89606407753695, 253.83717364576455, 247.65262807032525, 252.7128002179298, 247.68291153593768, 247.6713512321487, 251.20981135783018, 240.43359877671102, 241.37541083743483, 247.18856235379513, 244.93584439832787, 251.57123666297636, 245.45987962239394, 242.93848149332354, 257.32824384460775, 248.87111849756732, 250.33764102343963, 242.8762590689327, 247.27808637737408, 250.55461294854933, 244.24503211288848, 251.87849009172837, 246.99680655040598, 248.5415312510336, 246.99146693885302, 259.2613909225447, 249.93251387631034, 244.7114453552205, 254.11272456051594, 243.8957817501449, 251.04431797502377, 240.2016493806011, 243.35906975550785, 250.98430617934562, 253.69233289997706, 250.85684140594987, 249.4217585880588, 248.49448152205355, 242.60739004816287, 246.40077895802645, 247.69680614520107, 255.28561113109458, 251.7180914478423, 241.18479922318633, 251.620419846974, 248.07458859791842, 246.61538999847022, 253.05838144420434, 255.15499761247975, 254.656400595581, 245.8039123838868, 248.4539381207439, 251.6563171570178, 254.8777256356118, 247.60412881077355, 249.0717051166809, 244.46832512996986, 244.01896687959663, 254.06262911197098, 256.7812001428541, 249.63994939209834, 255.01766448946012, 251.80818012523818, 246.7744012269744, 251.80697802754207, 257.69018283232987, 249.82086980445024, 257.82321827907003, 236.9012744795513, 254.10951252187613, 250.43523534119086, 248.50496324767067, 250.4588038826775, 240.06215542699553]\n",
    "\n",
    "```"
   ]
  }
 ],
 "metadata": {
  "kernelspec": {
   "display_name": "Python 3",
   "language": "python",
   "name": "python3"
  },
  "language_info": {
   "codemirror_mode": {
    "name": "ipython",
    "version": 3
   },
   "file_extension": ".py",
   "mimetype": "text/x-python",
   "name": "python",
   "nbconvert_exporter": "python",
   "pygments_lexer": "ipython3",
   "version": "3.10.12"
  }
 },
 "nbformat": 4,
 "nbformat_minor": 2
}
