{
 "cells": [
  {
   "cell_type": "markdown",
   "metadata": {},
   "source": [
    "## From Text to Data\n",
    "\n",
    "Extract information from the text to create a data structure that can be used in the code.\n",
    "\n",
    "\n",
    "### Individual Data:\n",
    "\n",
    "- **Name**: Rossi Amerigo  \n",
    "  **Gender**: Male  \n",
    "  **Age**: 32  \n",
    "  **Height**: 172 cm  \n",
    "  **Weight**: 64 kg  \n",
    "  **Systolic BP (PAS)**: 140 mm Hg  \n",
    "  **Blood Glucose (Glicemia)**: 190 mg/dl  \n",
    "\n",
    "- **Name**: Bianchi Paolo  \n",
    "  **Gender**: Male  \n",
    "  **Age**: 47  \n",
    "  **Height**: 170 cm  \n",
    "  **Weight**: 80 kg  \n",
    "  **Systolic BP (PAS)**: 148 mm Hg  \n",
    "  **Blood Glucose (Glicemia)**: 180 mg/dl  \n",
    "\n",
    "- **Name**: Valenzi Alberica  \n",
    "  **Gender**: Female  \n",
    "  **Age**: 45  \n",
    "  **Height**: 168 cm  \n",
    "  **Weight**: 51 kg  \n",
    "  **Systolic BP (PAS)**: 125 mm Hg  \n",
    "  **Blood Glucose (Glicemia)**: 150 mg/dl  \n",
    "\n",
    "- **Name**: Alinori Alfonso   \n",
    "  **Gender**: Male  \n",
    "  **Age**: 27  \n",
    "  **Height**: 183 cm  \n",
    "  **Weight**: 85 kg  \n",
    "  **Systolic BP (PAS)**: 138 mm Hg  \n",
    "  **Blood Glucose (Glicemia)**: 170 mg/dl  \n"
   ]
  },
  {
   "cell_type": "code",
   "execution_count": 6,
   "metadata": {},
   "outputs": [
    {
     "data": {
      "text/html": [
       "<div>\n",
       "<style scoped>\n",
       "    .dataframe tbody tr th:only-of-type {\n",
       "        vertical-align: middle;\n",
       "    }\n",
       "\n",
       "    .dataframe tbody tr th {\n",
       "        vertical-align: top;\n",
       "    }\n",
       "\n",
       "    .dataframe thead th {\n",
       "        text-align: right;\n",
       "    }\n",
       "</style>\n",
       "<table border=\"1\" class=\"dataframe\">\n",
       "  <thead>\n",
       "    <tr style=\"text-align: right;\">\n",
       "      <th></th>\n",
       "      <th>0</th>\n",
       "      <th>1</th>\n",
       "    </tr>\n",
       "  </thead>\n",
       "  <tbody>\n",
       "    <tr>\n",
       "      <th>0</th>\n",
       "      <td>Rossi Amerigo</td>\n",
       "      <td>32</td>\n",
       "    </tr>\n",
       "    <tr>\n",
       "      <th>1</th>\n",
       "      <td>Bianchi Paolo</td>\n",
       "      <td>47</td>\n",
       "    </tr>\n",
       "    <tr>\n",
       "      <th>2</th>\n",
       "      <td>Valenzi Alberica</td>\n",
       "      <td>45</td>\n",
       "    </tr>\n",
       "    <tr>\n",
       "      <th>3</th>\n",
       "      <td>Alinori Alfonso</td>\n",
       "      <td>27</td>\n",
       "    </tr>\n",
       "  </tbody>\n",
       "</table>\n",
       "</div>"
      ],
      "text/plain": [
       "                  0   1\n",
       "0     Rossi Amerigo  32\n",
       "1     Bianchi Paolo  47\n",
       "2  Valenzi Alberica  45\n",
       "3   Alinori Alfonso  27"
      ]
     },
     "execution_count": 6,
     "metadata": {},
     "output_type": "execute_result"
    }
   ],
   "source": [
    "import pandas as pd\n",
    "\n",
    "# Create a dictionary with the structured data\n",
    "data = {\n",
    "    \"Name\": [\"Rossi Amerigo\", \"Bianchi Paolo\", \"Valenzi Alberica\", \"Alinori Alfonso\"],\n",
    "    \"Gender\": [\"Male\", \"Male\", \"Female\", \"Male\"],\n",
    "    \"Age\": [32, 47, 45, 27],\n",
    "    \"Height (cm)\": [172, 170, 168, 183],\n",
    "    \"Weight (kg)\": [64, 80, 51, 85],\n",
    "    \"Systolic BP (mm Hg)\": [140, 148, 125, 138],\n",
    "    \"Blood Glucose (mg/dl)\": [190, 180, 150, 170]\n",
    "}\n",
    "\n",
    "# Create a DataFrame using the dictionary\n",
    "df = pd.DataFrame(data)\n",
    "\n",
    "# Display the DataFrame\n",
    "df\n",
    "## try to create the dataframe using lists\n",
    "pd.DataFrame([[\"Rossi Amerigo\", 32,], [\"Bianchi Paolo\", 47], [\"Valenzi Alberica\", 45], [\"Alinori Alfonso\", 27]])"
   ]
  },
  {
   "cell_type": "markdown",
   "metadata": {},
   "source": [
    "## Frequency \n",
    "\n",
    "**Analyzing the Frequency of Heights of Individuals**  \n",
    "\n",
    "\n",
    "You are given a dataset of heights of 100 individuals. Your task is to analyze the frequency of heights and categorize them into groups (e.g., \"Short\", \"Average\", \"Tall\"). Afterward, compute the frequency of each height group.\n",
    "Data Sample:\n",
    "\n",
    "Here is a sample dataset of heights (in centimeters) of individuals:"
   ]
  },
  {
   "cell_type": "code",
   "execution_count": 8,
   "metadata": {},
   "outputs": [
    {
     "name": "stdout",
     "output_type": "stream",
     "text": [
      "Descriptive Statistics\n",
      "           Height\n",
      "count  100.000000\n",
      "mean   171.050000\n",
      "std     10.667022\n",
      "min    155.000000\n",
      "25%    160.000000\n",
      "50%    170.000000\n",
      "75%    180.000000\n",
      "max    190.000000\n",
      "\n",
      "Frequency of each category:\n",
      "Average    46\n",
      "Tall       43\n",
      "Short      11\n",
      "Name: Category, dtype: int64\n"
     ]
    },
    {
     "data": {
      "image/png": "[encoded data removed]",
      "text/plain": [
       "<Figure size 800x600 with 1 Axes>"
      ]
     },
     "metadata": {},
     "output_type": "display_data"
    }
   ],
   "source": [
    "import pandas as pd\n",
    "import numpy as np\n",
    "import matplotlib.pyplot as plt \n",
    "\n",
    "# Sample dataset of heights (in cm)\n",
    "heights = [155, 160, 175, 165, 170, 180, 155, 160, 155, 190, 185, 160, 165, 170, 175, 155, 160, 170, 185, 180,\n",
    "           170, 160, 170, 175, 155, 190, 180, 185, 175, 170, 160, 160, 155, 175, 180, 185, 165, 190, 170, 160,\n",
    "           175, 170, 155, 160, 180, 170, 165, 185, 160, 175, 170, 180, 190, 185, 175, 160, 170, 160, 155, 185,\n",
    "           175, 170, 165, 180, 190, 170, 155, 160, 170, 180, 190, 175, 155, 160, 170, 175, 160, 180, 165, 170,\n",
    "           185, 160, 175, 170, 160, 180, 170, 165, 155, 185, 190, 170, 160, 175, 165, 170, 180, 175, 185, 190]\n",
    "# Create a pandas DataFrame\n",
    "df = pd.DataFrame(heights, columns=['Height'])\n",
    "\n",
    "# Step 2: Descriptive Statistics\n",
    "print(\"Descriptive Statistics\")\n",
    "print(df.describe())\n",
    "\n",
    "# Step 3: Create Height Categories\n",
    "bins = [0, 160, 175, 200]\n",
    "labels = [\"Short\", \"Average\", \"Tall\"]\n",
    "df['Category'] = pd.cut(df['Height'], bins=bins, labels=labels, right=False)\n",
    "\n",
    "# Step 4: Calculate Frequencies\n",
    "frequency = df['Category'].value_counts()\n",
    "print(\"\\nFrequency of each category:\")\n",
    "print(frequency)\n",
    "\n",
    "# Step 5: Plot the frequencies\n",
    "plt.figure(figsize=(8, 6))\n",
    "frequency.plot(kind='bar', color=['skyblue', 'lightgreen', 'lightcoral'])\n",
    "plt.title('Frequency of Height Categories')\n",
    "plt.xlabel('Height Categories')\n",
    "plt.ylabel('Frequency')\n",
    "plt.xticks(rotation=0)\n",
    "plt.show()\n"
   ]
  },
  {
   "cell_type": "markdown",
   "metadata": {},
   "source": [
    "## Central Tendencies\n",
    "\n",
    "- Mean  \n",
    "Given the array of height of people, calculate the mean, if possible without using methods at first.\n"
   ]
  },
  {
   "cell_type": "code",
   "execution_count": 9,
   "metadata": {},
   "outputs": [],
   "source": [
    "import numpy as np\n",
    "\n",
    "# Heights of 20 individuals (in cm)\n",
    "heights = np.array([155, 160, 175, 165, 170, 180, 155, 160, 155, 190, 185, 160, 165, 170, 175, 155, 160, 170, 185, 180])"
   ]
  },
  {
   "cell_type": "markdown",
   "metadata": {},
   "source": [
    "## Variation\n",
    "\n",
    "The array rapresent a list of grades of 20 students for one test.\n",
    "Calculate the mean, median and the variation measure (Deviation, Mean Squared Error (MSE) and the Standard Deviation)"
   ]
  },
  {
   "cell_type": "code",
   "execution_count": 10,
   "metadata": {},
   "outputs": [],
   "source": [
    "grades = [18, 22, 25, 28, 21, 27, 26, 24, 29, 30, 20, 23, 26, 27, 28, 22, 19, 24, 30, 25]\n"
   ]
  },
  {
   "cell_type": "markdown",
   "metadata": {},
   "source": [
    "Calculate the quartiles  \n",
    "- Q1 (First Quartile): The median of the lower half of the data (25th percentile).\n",
    "- Q2 (Second Quartile): The median of the data (50th percentile, also called the median).\n",
    "- Q3 (Third Quartile): The median of the upper half of the data (75th percentile).\n",
    "- Interquartile Range (IQR): The difference between Q3 and Q1, which measures the spread of the middle 50% of the data."
   ]
  },
  {
   "cell_type": "code",
   "execution_count": null,
   "metadata": {},
   "outputs": [],
   "source": []
  },
  {
   "cell_type": "markdown",
   "metadata": {},
   "source": [
    "## Normal Distribution\n",
    "\n",
    "\n",
    "A testing laboratory has to find out the strenght of a stock of construction grade iron.  \n",
    "To do so, the operator has broken 60 sample of material and this is the internal stress in the material at breaking point (measured in MPa):\n",
    "\n",
    "\n",
    "Sample strengths\n",
    "```pyton\n",
    " [409.93428306 397.23471398 412.95377076 430.46059713 395.31693251\n",
    " 395.31726086 431.58425631 415.34869458 390.61051228 410.85120087\n",
    " 390.73164614 390.68540493 404.83924543 361.73439511 365.50164335\n",
    " 388.75424942 379.74337759 406.28494665 381.83951849 371.75392597\n",
    " 429.31297538 395.48447399 401.35056409 371.50503628 389.11234551\n",
    " 402.21845179 376.98012845 407.51396037 387.9872262  394.166125\n",
    " 387.96586776 437.04556369 399.73005551 378.84578142 416.45089824\n",
    " 375.583127   404.1772719  360.80659752 373.43627902 403.93722472\n",
    " 414.7693316  403.42736562 397.68703435 393.97792609 370.42956019\n",
    " 385.60311583 390.78722458 421.14244452 406.87236579 364.73919689\n",
    " 406.48167939 392.29835439 386.46155999 412.23352578 420.61999045\n",
    " 418.62560238 383.21564954 393.81575248 406.62526863 419.51090254]\n",
    "\n",
    "\n",
    "\n",
    "\n",
    " Is it possible to make any prediction on the strenght of the material?\n"
   ]
  }
 ],
 "metadata": {
  "kernelspec": {
   "display_name": "Python 3",
   "language": "python",
   "name": "python3"
  },
  "language_info": {
   "codemirror_mode": {
    "name": "ipython",
    "version": 3
   },
   "file_extension": ".py",
   "mimetype": "text/x-python",
   "name": "python",
   "nbconvert_exporter": "python",
   "pygments_lexer": "ipython3",
   "version": "3.10.12"
  }
 },
 "nbformat": 4,
 "nbformat_minor": 2
}
